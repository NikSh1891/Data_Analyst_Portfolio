{
  "nbformat": 4,
  "nbformat_minor": 0,
  "metadata": {
    "colab": {
      "provenance": [],
      "mount_file_id": "1w2ZL5EO9Dm3YUy5yO97_UEmxhtI7IMr8",
      "authorship_tag": "ABX9TyOjhgIcAcmpdEqJhCa7xDiF",
      "include_colab_link": true
    },
    "kernelspec": {
      "name": "python3",
      "display_name": "Python 3"
    },
    "language_info": {
      "name": "python"
    }
  },
  "cells": [
    {
      "cell_type": "markdown",
      "metadata": {
        "id": "view-in-github",
        "colab_type": "text"
      },
      "source": [
        "<a href=\"https://colab.research.google.com/github/NikSh1891/NikSh1891/blob/main/RFM_analysis.ipynb\" target=\"_parent\"><img src=\"https://colab.research.google.com/assets/colab-badge.svg\" alt=\"Open In Colab\"/></a>"
      ]
    },
    {
      "cell_type": "markdown",
      "source": [
        "# RFM анализ(Сегментация клиентов)"
      ],
      "metadata": {
        "id": "f98JaX-TeKmR"
      }
    },
    {
      "cell_type": "markdown",
      "source": [
        "### Импорт библиотек"
      ],
      "metadata": {
        "id": "X8uqOYFwOvj2"
      }
    },
    {
      "cell_type": "code",
      "source": [
        "import pandas as pd\n",
        "import numpy as np\n",
        "import seaborn as sns\n",
        "import matplotlib.pyplot as plt"
      ],
      "metadata": {
        "id": "VMeU6Ul_eSGQ"
      },
      "execution_count": 2,
      "outputs": []
    },
    {
      "cell_type": "markdown",
      "source": [
        "### Загрузка данных"
      ],
      "metadata": {
        "id": "omDzpejYO2R1"
      }
    },
    {
      "cell_type": "code",
      "source": [
        "df = pd.read_csv('/content/drive/MyDrive/1. Анализ данных/Product/RFM_ht_data.csv', sep=',', parse_dates=True)"
      ],
      "metadata": {
        "colab": {
          "base_uri": "https://localhost:8080/"
        },
        "id": "Wfgy3j37endK",
        "outputId": "ff8f409c-6395-48ec-d813-521390876f0f"
      },
      "execution_count": 3,
      "outputs": [
        {
          "output_type": "stream",
          "name": "stderr",
          "text": [
            "<ipython-input-3-1e3f58549228>:1: DtypeWarning: Columns (1) have mixed types. Specify dtype option on import or set low_memory=False.\n",
            "  df = pd.read_csv('/content/drive/MyDrive/1. Анализ данных/Product/RFM_ht_data.csv', sep=',', parse_dates=True)\n"
          ]
        }
      ]
    },
    {
      "cell_type": "markdown",
      "source": [
        "### Предварительный анализ данных"
      ],
      "metadata": {
        "id": "5rpnjpWZO61N"
      }
    },
    {
      "cell_type": "code",
      "source": [
        "# Размер датасета\n",
        "df.shape"
      ],
      "metadata": {
        "colab": {
          "base_uri": "https://localhost:8080/"
        },
        "id": "THelBtCaP8kv",
        "outputId": "2276c218-a9d4-40f1-bcd9-6003daa822fa"
      },
      "execution_count": 4,
      "outputs": [
        {
          "output_type": "execute_result",
          "data": {
            "text/plain": [
              "(332730, 4)"
            ]
          },
          "metadata": {},
          "execution_count": 4
        }
      ]
    },
    {
      "cell_type": "code",
      "source": [
        "df.head()"
      ],
      "metadata": {
        "colab": {
          "base_uri": "https://localhost:8080/",
          "height": 206
        },
        "id": "dgt-6KnlgDyr",
        "outputId": "ed479771-c69d-4632-f922-1041e4e9e067"
      },
      "execution_count": 8,
      "outputs": [
        {
          "output_type": "execute_result",
          "data": {
            "text/plain": [
              "        InvoiceNo CustomerCode InvoiceDate   Amount\n",
              "0  C0011810010001     19067290  2020-09-01  1716.00\n",
              "1  C0011810010017     13233933  2020-09-01  1489.74\n",
              "2  C0011810010020     99057968  2020-09-01   151.47\n",
              "3  C0011810010021     80007276  2020-09-01   146.72\n",
              "4  C0011810010024     13164076  2020-09-01   104.00"
            ],
            "text/html": [
              "\n",
              "  <div id=\"df-c5511e41-9ee1-48b0-a8c1-45ad84205f9e\" class=\"colab-df-container\">\n",
              "    <div>\n",
              "<style scoped>\n",
              "    .dataframe tbody tr th:only-of-type {\n",
              "        vertical-align: middle;\n",
              "    }\n",
              "\n",
              "    .dataframe tbody tr th {\n",
              "        vertical-align: top;\n",
              "    }\n",
              "\n",
              "    .dataframe thead th {\n",
              "        text-align: right;\n",
              "    }\n",
              "</style>\n",
              "<table border=\"1\" class=\"dataframe\">\n",
              "  <thead>\n",
              "    <tr style=\"text-align: right;\">\n",
              "      <th></th>\n",
              "      <th>InvoiceNo</th>\n",
              "      <th>CustomerCode</th>\n",
              "      <th>InvoiceDate</th>\n",
              "      <th>Amount</th>\n",
              "    </tr>\n",
              "  </thead>\n",
              "  <tbody>\n",
              "    <tr>\n",
              "      <th>0</th>\n",
              "      <td>C0011810010001</td>\n",
              "      <td>19067290</td>\n",
              "      <td>2020-09-01</td>\n",
              "      <td>1716.00</td>\n",
              "    </tr>\n",
              "    <tr>\n",
              "      <th>1</th>\n",
              "      <td>C0011810010017</td>\n",
              "      <td>13233933</td>\n",
              "      <td>2020-09-01</td>\n",
              "      <td>1489.74</td>\n",
              "    </tr>\n",
              "    <tr>\n",
              "      <th>2</th>\n",
              "      <td>C0011810010020</td>\n",
              "      <td>99057968</td>\n",
              "      <td>2020-09-01</td>\n",
              "      <td>151.47</td>\n",
              "    </tr>\n",
              "    <tr>\n",
              "      <th>3</th>\n",
              "      <td>C0011810010021</td>\n",
              "      <td>80007276</td>\n",
              "      <td>2020-09-01</td>\n",
              "      <td>146.72</td>\n",
              "    </tr>\n",
              "    <tr>\n",
              "      <th>4</th>\n",
              "      <td>C0011810010024</td>\n",
              "      <td>13164076</td>\n",
              "      <td>2020-09-01</td>\n",
              "      <td>104.00</td>\n",
              "    </tr>\n",
              "  </tbody>\n",
              "</table>\n",
              "</div>\n",
              "    <div class=\"colab-df-buttons\">\n",
              "\n",
              "  <div class=\"colab-df-container\">\n",
              "    <button class=\"colab-df-convert\" onclick=\"convertToInteractive('df-c5511e41-9ee1-48b0-a8c1-45ad84205f9e')\"\n",
              "            title=\"Convert this dataframe to an interactive table.\"\n",
              "            style=\"display:none;\">\n",
              "\n",
              "  <svg xmlns=\"http://www.w3.org/2000/svg\" height=\"24px\" viewBox=\"0 -960 960 960\">\n",
              "    <path d=\"M120-120v-720h720v720H120Zm60-500h600v-160H180v160Zm220 220h160v-160H400v160Zm0 220h160v-160H400v160ZM180-400h160v-160H180v160Zm440 0h160v-160H620v160ZM180-180h160v-160H180v160Zm440 0h160v-160H620v160Z\"/>\n",
              "  </svg>\n",
              "    </button>\n",
              "\n",
              "  <style>\n",
              "    .colab-df-container {\n",
              "      display:flex;\n",
              "      gap: 12px;\n",
              "    }\n",
              "\n",
              "    .colab-df-convert {\n",
              "      background-color: #E8F0FE;\n",
              "      border: none;\n",
              "      border-radius: 50%;\n",
              "      cursor: pointer;\n",
              "      display: none;\n",
              "      fill: #1967D2;\n",
              "      height: 32px;\n",
              "      padding: 0 0 0 0;\n",
              "      width: 32px;\n",
              "    }\n",
              "\n",
              "    .colab-df-convert:hover {\n",
              "      background-color: #E2EBFA;\n",
              "      box-shadow: 0px 1px 2px rgba(60, 64, 67, 0.3), 0px 1px 3px 1px rgba(60, 64, 67, 0.15);\n",
              "      fill: #174EA6;\n",
              "    }\n",
              "\n",
              "    .colab-df-buttons div {\n",
              "      margin-bottom: 4px;\n",
              "    }\n",
              "\n",
              "    [theme=dark] .colab-df-convert {\n",
              "      background-color: #3B4455;\n",
              "      fill: #D2E3FC;\n",
              "    }\n",
              "\n",
              "    [theme=dark] .colab-df-convert:hover {\n",
              "      background-color: #434B5C;\n",
              "      box-shadow: 0px 1px 3px 1px rgba(0, 0, 0, 0.15);\n",
              "      filter: drop-shadow(0px 1px 2px rgba(0, 0, 0, 0.3));\n",
              "      fill: #FFFFFF;\n",
              "    }\n",
              "  </style>\n",
              "\n",
              "    <script>\n",
              "      const buttonEl =\n",
              "        document.querySelector('#df-c5511e41-9ee1-48b0-a8c1-45ad84205f9e button.colab-df-convert');\n",
              "      buttonEl.style.display =\n",
              "        google.colab.kernel.accessAllowed ? 'block' : 'none';\n",
              "\n",
              "      async function convertToInteractive(key) {\n",
              "        const element = document.querySelector('#df-c5511e41-9ee1-48b0-a8c1-45ad84205f9e');\n",
              "        const dataTable =\n",
              "          await google.colab.kernel.invokeFunction('convertToInteractive',\n",
              "                                                    [key], {});\n",
              "        if (!dataTable) return;\n",
              "\n",
              "        const docLinkHtml = 'Like what you see? Visit the ' +\n",
              "          '<a target=\"_blank\" href=https://colab.research.google.com/notebooks/data_table.ipynb>data table notebook</a>'\n",
              "          + ' to learn more about interactive tables.';\n",
              "        element.innerHTML = '';\n",
              "        dataTable['output_type'] = 'display_data';\n",
              "        await google.colab.output.renderOutput(dataTable, element);\n",
              "        const docLink = document.createElement('div');\n",
              "        docLink.innerHTML = docLinkHtml;\n",
              "        element.appendChild(docLink);\n",
              "      }\n",
              "    </script>\n",
              "  </div>\n",
              "\n",
              "\n",
              "<div id=\"df-285f48b8-0f7a-4134-af32-12e2b47c5523\">\n",
              "  <button class=\"colab-df-quickchart\" onclick=\"quickchart('df-285f48b8-0f7a-4134-af32-12e2b47c5523')\"\n",
              "            title=\"Suggest charts\"\n",
              "            style=\"display:none;\">\n",
              "\n",
              "<svg xmlns=\"http://www.w3.org/2000/svg\" height=\"24px\"viewBox=\"0 0 24 24\"\n",
              "     width=\"24px\">\n",
              "    <g>\n",
              "        <path d=\"M19 3H5c-1.1 0-2 .9-2 2v14c0 1.1.9 2 2 2h14c1.1 0 2-.9 2-2V5c0-1.1-.9-2-2-2zM9 17H7v-7h2v7zm4 0h-2V7h2v10zm4 0h-2v-4h2v4z\"/>\n",
              "    </g>\n",
              "</svg>\n",
              "  </button>\n",
              "\n",
              "<style>\n",
              "  .colab-df-quickchart {\n",
              "      --bg-color: #E8F0FE;\n",
              "      --fill-color: #1967D2;\n",
              "      --hover-bg-color: #E2EBFA;\n",
              "      --hover-fill-color: #174EA6;\n",
              "      --disabled-fill-color: #AAA;\n",
              "      --disabled-bg-color: #DDD;\n",
              "  }\n",
              "\n",
              "  [theme=dark] .colab-df-quickchart {\n",
              "      --bg-color: #3B4455;\n",
              "      --fill-color: #D2E3FC;\n",
              "      --hover-bg-color: #434B5C;\n",
              "      --hover-fill-color: #FFFFFF;\n",
              "      --disabled-bg-color: #3B4455;\n",
              "      --disabled-fill-color: #666;\n",
              "  }\n",
              "\n",
              "  .colab-df-quickchart {\n",
              "    background-color: var(--bg-color);\n",
              "    border: none;\n",
              "    border-radius: 50%;\n",
              "    cursor: pointer;\n",
              "    display: none;\n",
              "    fill: var(--fill-color);\n",
              "    height: 32px;\n",
              "    padding: 0;\n",
              "    width: 32px;\n",
              "  }\n",
              "\n",
              "  .colab-df-quickchart:hover {\n",
              "    background-color: var(--hover-bg-color);\n",
              "    box-shadow: 0 1px 2px rgba(60, 64, 67, 0.3), 0 1px 3px 1px rgba(60, 64, 67, 0.15);\n",
              "    fill: var(--button-hover-fill-color);\n",
              "  }\n",
              "\n",
              "  .colab-df-quickchart-complete:disabled,\n",
              "  .colab-df-quickchart-complete:disabled:hover {\n",
              "    background-color: var(--disabled-bg-color);\n",
              "    fill: var(--disabled-fill-color);\n",
              "    box-shadow: none;\n",
              "  }\n",
              "\n",
              "  .colab-df-spinner {\n",
              "    border: 2px solid var(--fill-color);\n",
              "    border-color: transparent;\n",
              "    border-bottom-color: var(--fill-color);\n",
              "    animation:\n",
              "      spin 1s steps(1) infinite;\n",
              "  }\n",
              "\n",
              "  @keyframes spin {\n",
              "    0% {\n",
              "      border-color: transparent;\n",
              "      border-bottom-color: var(--fill-color);\n",
              "      border-left-color: var(--fill-color);\n",
              "    }\n",
              "    20% {\n",
              "      border-color: transparent;\n",
              "      border-left-color: var(--fill-color);\n",
              "      border-top-color: var(--fill-color);\n",
              "    }\n",
              "    30% {\n",
              "      border-color: transparent;\n",
              "      border-left-color: var(--fill-color);\n",
              "      border-top-color: var(--fill-color);\n",
              "      border-right-color: var(--fill-color);\n",
              "    }\n",
              "    40% {\n",
              "      border-color: transparent;\n",
              "      border-right-color: var(--fill-color);\n",
              "      border-top-color: var(--fill-color);\n",
              "    }\n",
              "    60% {\n",
              "      border-color: transparent;\n",
              "      border-right-color: var(--fill-color);\n",
              "    }\n",
              "    80% {\n",
              "      border-color: transparent;\n",
              "      border-right-color: var(--fill-color);\n",
              "      border-bottom-color: var(--fill-color);\n",
              "    }\n",
              "    90% {\n",
              "      border-color: transparent;\n",
              "      border-bottom-color: var(--fill-color);\n",
              "    }\n",
              "  }\n",
              "</style>\n",
              "\n",
              "  <script>\n",
              "    async function quickchart(key) {\n",
              "      const quickchartButtonEl =\n",
              "        document.querySelector('#' + key + ' button');\n",
              "      quickchartButtonEl.disabled = true;  // To prevent multiple clicks.\n",
              "      quickchartButtonEl.classList.add('colab-df-spinner');\n",
              "      try {\n",
              "        const charts = await google.colab.kernel.invokeFunction(\n",
              "            'suggestCharts', [key], {});\n",
              "      } catch (error) {\n",
              "        console.error('Error during call to suggestCharts:', error);\n",
              "      }\n",
              "      quickchartButtonEl.classList.remove('colab-df-spinner');\n",
              "      quickchartButtonEl.classList.add('colab-df-quickchart-complete');\n",
              "    }\n",
              "    (() => {\n",
              "      let quickchartButtonEl =\n",
              "        document.querySelector('#df-285f48b8-0f7a-4134-af32-12e2b47c5523 button');\n",
              "      quickchartButtonEl.style.display =\n",
              "        google.colab.kernel.accessAllowed ? 'block' : 'none';\n",
              "    })();\n",
              "  </script>\n",
              "</div>\n",
              "    </div>\n",
              "  </div>\n"
            ]
          },
          "metadata": {},
          "execution_count": 8
        }
      ]
    },
    {
      "cell_type": "code",
      "source": [
        "df[['InvoiceNo', 'CustomerCode']] = df[['InvoiceNo', 'CustomerCode']].astype('str')"
      ],
      "metadata": {
        "id": "Cj2phtCMfNOp"
      },
      "execution_count": 7,
      "outputs": []
    },
    {
      "cell_type": "code",
      "source": [
        "# Посмотрим пропуски и типы данных\n",
        "df.info()"
      ],
      "metadata": {
        "colab": {
          "base_uri": "https://localhost:8080/"
        },
        "id": "SnTVya3DdUVq",
        "outputId": "7f210beb-6e7f-44b0-cbd3-aedf27b57c2f"
      },
      "execution_count": 45,
      "outputs": [
        {
          "output_type": "stream",
          "name": "stdout",
          "text": [
            "<class 'pandas.core.frame.DataFrame'>\n",
            "RangeIndex: 332730 entries, 0 to 332729\n",
            "Data columns (total 4 columns):\n",
            " #   Column        Non-Null Count   Dtype  \n",
            "---  ------        --------------   -----  \n",
            " 0   InvoiceNo     332730 non-null  object \n",
            " 1   CustomerCode  332730 non-null  object \n",
            " 2   InvoiceDate   332730 non-null  object \n",
            " 3   Amount        332730 non-null  float64\n",
            "dtypes: float64(1), object(3)\n",
            "memory usage: 10.2+ MB\n"
          ]
        }
      ]
    },
    {
      "cell_type": "markdown",
      "source": [
        "Пропусков в данных нет"
      ],
      "metadata": {
        "id": "y2Un-xcVPd1d"
      }
    },
    {
      "cell_type": "code",
      "source": [
        "# Проверка на дубликаты\n",
        "print(df['InvoiceNo'].duplicated().sum())\n",
        "print(df['CustomerCode'].duplicated().sum())"
      ],
      "metadata": {
        "colab": {
          "base_uri": "https://localhost:8080/"
        },
        "id": "jjsn2en4PaxG",
        "outputId": "39b76a7b-0739-4773-8e04-27fdf7dd0dd0"
      },
      "execution_count": 11,
      "outputs": [
        {
          "output_type": "stream",
          "name": "stdout",
          "text": [
            "0\n",
            "208997\n"
          ]
        }
      ]
    },
    {
      "cell_type": "code",
      "source": [
        "# Посмотрим максимальную и минимальные суммы покупок\n",
        "print(df.Amount.max())\n",
        "print(df.Amount.min())"
      ],
      "metadata": {
        "colab": {
          "base_uri": "https://localhost:8080/"
        },
        "id": "x9CnQ_HqQROg",
        "outputId": "215f9f37-cdcc-4394-f224-76eaa7fdfd63"
      },
      "execution_count": 43,
      "outputs": [
        {
          "output_type": "stream",
          "name": "stdout",
          "text": [
            "131874.0\n",
            "-8925.0\n"
          ]
        }
      ]
    },
    {
      "cell_type": "code",
      "source": [
        "df.loc[df['Amount'] < 0]"
      ],
      "metadata": {
        "colab": {
          "base_uri": "https://localhost:8080/",
          "height": 1000
        },
        "id": "pUOeSFbneiFk",
        "outputId": "3786b137-0ca9-43aa-cac1-253543f59ad5"
      },
      "execution_count": 46,
      "outputs": [
        {
          "output_type": "execute_result",
          "data": {
            "text/plain": [
              "             InvoiceNo CustomerCode InvoiceDate   Amount\n",
              "5196    D0581810010128     13166218  2020-09-01    -3.80\n",
              "12807   D0211810020467     13163058  2020-09-02   -80.00\n",
              "12926   D0231810020120     18099094  2020-09-02  -639.77\n",
              "13726   D0311810020291     19000021  2020-09-02    -1.00\n",
              "28017   D0621810030773     13134281  2020-09-03  -140.00\n",
              "47900   D0271810050489     13050388  2020-09-05    -8.45\n",
              "48223   D0311810050127     10001027  2020-09-05   -90.20\n",
              "50864   D0541810050090     13079555  2020-09-05  -702.80\n",
              "51869   D0581810050725     19060084  2020-09-05    -0.87\n",
              "60865   D0161810060606     18026819  2020-09-06  -185.00\n",
              "62531   D0271810060174     13062439  2020-09-06    -2.92\n",
              "62951   D0311810060379     14001461  2020-09-06 -8925.00\n",
              "101907  D0111810100209     13161338  2020-09-10   -60.69\n",
              "122422  D0131810120043     13261859  2020-09-12    -2.51\n",
              "128948  D0581810121627     13000774  2020-09-12  -131.10\n",
              "177766  D0161810170029     35058995  2020-09-17  -141.24\n",
              "193843  D0751810180061     19033029  2020-09-18  -123.02\n",
              "200089  D0261810190315     10005701  2020-09-19   -12.84\n",
              "200827  D0341810190097     19019360  2020-09-19  -487.00\n",
              "223980  D0451810210059     13178278  2020-09-21   -15.00\n",
              "228453  D0791810210012     13043237  2020-09-21    -1.10\n",
              "233350  D0471810220272     13168652  2020-09-22  -760.00\n",
              "254913  D0621810240907     18084928  2020-09-24   -46.80\n",
              "271918  D0231810260131     19085661  2020-09-26  -106.95\n",
              "286683  D0341810270246     19082906  2020-09-27   -49.00\n",
              "292465  D0761810270362     19087524  2020-09-27   -35.00\n",
              "299028  D0581810280572     35047053  2020-09-28    -1.44\n",
              "306668  D0311810290483     10000476  2020-09-29   -50.00\n",
              "319486  D0621810300287     13134409  2020-09-30   -27.60\n",
              "319544  D0621810300431     18049360  2020-09-30   -22.56\n",
              "328892  D0611810310536     19023668  2020-09-30  -640.00\n",
              "329362  D0621810310682     13045980  2020-09-30  -143.20"
            ],
            "text/html": [
              "\n",
              "  <div id=\"df-87214d9d-7cc1-4288-818e-9d6c59535bd8\" class=\"colab-df-container\">\n",
              "    <div>\n",
              "<style scoped>\n",
              "    .dataframe tbody tr th:only-of-type {\n",
              "        vertical-align: middle;\n",
              "    }\n",
              "\n",
              "    .dataframe tbody tr th {\n",
              "        vertical-align: top;\n",
              "    }\n",
              "\n",
              "    .dataframe thead th {\n",
              "        text-align: right;\n",
              "    }\n",
              "</style>\n",
              "<table border=\"1\" class=\"dataframe\">\n",
              "  <thead>\n",
              "    <tr style=\"text-align: right;\">\n",
              "      <th></th>\n",
              "      <th>InvoiceNo</th>\n",
              "      <th>CustomerCode</th>\n",
              "      <th>InvoiceDate</th>\n",
              "      <th>Amount</th>\n",
              "    </tr>\n",
              "  </thead>\n",
              "  <tbody>\n",
              "    <tr>\n",
              "      <th>5196</th>\n",
              "      <td>D0581810010128</td>\n",
              "      <td>13166218</td>\n",
              "      <td>2020-09-01</td>\n",
              "      <td>-3.80</td>\n",
              "    </tr>\n",
              "    <tr>\n",
              "      <th>12807</th>\n",
              "      <td>D0211810020467</td>\n",
              "      <td>13163058</td>\n",
              "      <td>2020-09-02</td>\n",
              "      <td>-80.00</td>\n",
              "    </tr>\n",
              "    <tr>\n",
              "      <th>12926</th>\n",
              "      <td>D0231810020120</td>\n",
              "      <td>18099094</td>\n",
              "      <td>2020-09-02</td>\n",
              "      <td>-639.77</td>\n",
              "    </tr>\n",
              "    <tr>\n",
              "      <th>13726</th>\n",
              "      <td>D0311810020291</td>\n",
              "      <td>19000021</td>\n",
              "      <td>2020-09-02</td>\n",
              "      <td>-1.00</td>\n",
              "    </tr>\n",
              "    <tr>\n",
              "      <th>28017</th>\n",
              "      <td>D0621810030773</td>\n",
              "      <td>13134281</td>\n",
              "      <td>2020-09-03</td>\n",
              "      <td>-140.00</td>\n",
              "    </tr>\n",
              "    <tr>\n",
              "      <th>47900</th>\n",
              "      <td>D0271810050489</td>\n",
              "      <td>13050388</td>\n",
              "      <td>2020-09-05</td>\n",
              "      <td>-8.45</td>\n",
              "    </tr>\n",
              "    <tr>\n",
              "      <th>48223</th>\n",
              "      <td>D0311810050127</td>\n",
              "      <td>10001027</td>\n",
              "      <td>2020-09-05</td>\n",
              "      <td>-90.20</td>\n",
              "    </tr>\n",
              "    <tr>\n",
              "      <th>50864</th>\n",
              "      <td>D0541810050090</td>\n",
              "      <td>13079555</td>\n",
              "      <td>2020-09-05</td>\n",
              "      <td>-702.80</td>\n",
              "    </tr>\n",
              "    <tr>\n",
              "      <th>51869</th>\n",
              "      <td>D0581810050725</td>\n",
              "      <td>19060084</td>\n",
              "      <td>2020-09-05</td>\n",
              "      <td>-0.87</td>\n",
              "    </tr>\n",
              "    <tr>\n",
              "      <th>60865</th>\n",
              "      <td>D0161810060606</td>\n",
              "      <td>18026819</td>\n",
              "      <td>2020-09-06</td>\n",
              "      <td>-185.00</td>\n",
              "    </tr>\n",
              "    <tr>\n",
              "      <th>62531</th>\n",
              "      <td>D0271810060174</td>\n",
              "      <td>13062439</td>\n",
              "      <td>2020-09-06</td>\n",
              "      <td>-2.92</td>\n",
              "    </tr>\n",
              "    <tr>\n",
              "      <th>62951</th>\n",
              "      <td>D0311810060379</td>\n",
              "      <td>14001461</td>\n",
              "      <td>2020-09-06</td>\n",
              "      <td>-8925.00</td>\n",
              "    </tr>\n",
              "    <tr>\n",
              "      <th>101907</th>\n",
              "      <td>D0111810100209</td>\n",
              "      <td>13161338</td>\n",
              "      <td>2020-09-10</td>\n",
              "      <td>-60.69</td>\n",
              "    </tr>\n",
              "    <tr>\n",
              "      <th>122422</th>\n",
              "      <td>D0131810120043</td>\n",
              "      <td>13261859</td>\n",
              "      <td>2020-09-12</td>\n",
              "      <td>-2.51</td>\n",
              "    </tr>\n",
              "    <tr>\n",
              "      <th>128948</th>\n",
              "      <td>D0581810121627</td>\n",
              "      <td>13000774</td>\n",
              "      <td>2020-09-12</td>\n",
              "      <td>-131.10</td>\n",
              "    </tr>\n",
              "    <tr>\n",
              "      <th>177766</th>\n",
              "      <td>D0161810170029</td>\n",
              "      <td>35058995</td>\n",
              "      <td>2020-09-17</td>\n",
              "      <td>-141.24</td>\n",
              "    </tr>\n",
              "    <tr>\n",
              "      <th>193843</th>\n",
              "      <td>D0751810180061</td>\n",
              "      <td>19033029</td>\n",
              "      <td>2020-09-18</td>\n",
              "      <td>-123.02</td>\n",
              "    </tr>\n",
              "    <tr>\n",
              "      <th>200089</th>\n",
              "      <td>D0261810190315</td>\n",
              "      <td>10005701</td>\n",
              "      <td>2020-09-19</td>\n",
              "      <td>-12.84</td>\n",
              "    </tr>\n",
              "    <tr>\n",
              "      <th>200827</th>\n",
              "      <td>D0341810190097</td>\n",
              "      <td>19019360</td>\n",
              "      <td>2020-09-19</td>\n",
              "      <td>-487.00</td>\n",
              "    </tr>\n",
              "    <tr>\n",
              "      <th>223980</th>\n",
              "      <td>D0451810210059</td>\n",
              "      <td>13178278</td>\n",
              "      <td>2020-09-21</td>\n",
              "      <td>-15.00</td>\n",
              "    </tr>\n",
              "    <tr>\n",
              "      <th>228453</th>\n",
              "      <td>D0791810210012</td>\n",
              "      <td>13043237</td>\n",
              "      <td>2020-09-21</td>\n",
              "      <td>-1.10</td>\n",
              "    </tr>\n",
              "    <tr>\n",
              "      <th>233350</th>\n",
              "      <td>D0471810220272</td>\n",
              "      <td>13168652</td>\n",
              "      <td>2020-09-22</td>\n",
              "      <td>-760.00</td>\n",
              "    </tr>\n",
              "    <tr>\n",
              "      <th>254913</th>\n",
              "      <td>D0621810240907</td>\n",
              "      <td>18084928</td>\n",
              "      <td>2020-09-24</td>\n",
              "      <td>-46.80</td>\n",
              "    </tr>\n",
              "    <tr>\n",
              "      <th>271918</th>\n",
              "      <td>D0231810260131</td>\n",
              "      <td>19085661</td>\n",
              "      <td>2020-09-26</td>\n",
              "      <td>-106.95</td>\n",
              "    </tr>\n",
              "    <tr>\n",
              "      <th>286683</th>\n",
              "      <td>D0341810270246</td>\n",
              "      <td>19082906</td>\n",
              "      <td>2020-09-27</td>\n",
              "      <td>-49.00</td>\n",
              "    </tr>\n",
              "    <tr>\n",
              "      <th>292465</th>\n",
              "      <td>D0761810270362</td>\n",
              "      <td>19087524</td>\n",
              "      <td>2020-09-27</td>\n",
              "      <td>-35.00</td>\n",
              "    </tr>\n",
              "    <tr>\n",
              "      <th>299028</th>\n",
              "      <td>D0581810280572</td>\n",
              "      <td>35047053</td>\n",
              "      <td>2020-09-28</td>\n",
              "      <td>-1.44</td>\n",
              "    </tr>\n",
              "    <tr>\n",
              "      <th>306668</th>\n",
              "      <td>D0311810290483</td>\n",
              "      <td>10000476</td>\n",
              "      <td>2020-09-29</td>\n",
              "      <td>-50.00</td>\n",
              "    </tr>\n",
              "    <tr>\n",
              "      <th>319486</th>\n",
              "      <td>D0621810300287</td>\n",
              "      <td>13134409</td>\n",
              "      <td>2020-09-30</td>\n",
              "      <td>-27.60</td>\n",
              "    </tr>\n",
              "    <tr>\n",
              "      <th>319544</th>\n",
              "      <td>D0621810300431</td>\n",
              "      <td>18049360</td>\n",
              "      <td>2020-09-30</td>\n",
              "      <td>-22.56</td>\n",
              "    </tr>\n",
              "    <tr>\n",
              "      <th>328892</th>\n",
              "      <td>D0611810310536</td>\n",
              "      <td>19023668</td>\n",
              "      <td>2020-09-30</td>\n",
              "      <td>-640.00</td>\n",
              "    </tr>\n",
              "    <tr>\n",
              "      <th>329362</th>\n",
              "      <td>D0621810310682</td>\n",
              "      <td>13045980</td>\n",
              "      <td>2020-09-30</td>\n",
              "      <td>-143.20</td>\n",
              "    </tr>\n",
              "  </tbody>\n",
              "</table>\n",
              "</div>\n",
              "    <div class=\"colab-df-buttons\">\n",
              "\n",
              "  <div class=\"colab-df-container\">\n",
              "    <button class=\"colab-df-convert\" onclick=\"convertToInteractive('df-87214d9d-7cc1-4288-818e-9d6c59535bd8')\"\n",
              "            title=\"Convert this dataframe to an interactive table.\"\n",
              "            style=\"display:none;\">\n",
              "\n",
              "  <svg xmlns=\"http://www.w3.org/2000/svg\" height=\"24px\" viewBox=\"0 -960 960 960\">\n",
              "    <path d=\"M120-120v-720h720v720H120Zm60-500h600v-160H180v160Zm220 220h160v-160H400v160Zm0 220h160v-160H400v160ZM180-400h160v-160H180v160Zm440 0h160v-160H620v160ZM180-180h160v-160H180v160Zm440 0h160v-160H620v160Z\"/>\n",
              "  </svg>\n",
              "    </button>\n",
              "\n",
              "  <style>\n",
              "    .colab-df-container {\n",
              "      display:flex;\n",
              "      gap: 12px;\n",
              "    }\n",
              "\n",
              "    .colab-df-convert {\n",
              "      background-color: #E8F0FE;\n",
              "      border: none;\n",
              "      border-radius: 50%;\n",
              "      cursor: pointer;\n",
              "      display: none;\n",
              "      fill: #1967D2;\n",
              "      height: 32px;\n",
              "      padding: 0 0 0 0;\n",
              "      width: 32px;\n",
              "    }\n",
              "\n",
              "    .colab-df-convert:hover {\n",
              "      background-color: #E2EBFA;\n",
              "      box-shadow: 0px 1px 2px rgba(60, 64, 67, 0.3), 0px 1px 3px 1px rgba(60, 64, 67, 0.15);\n",
              "      fill: #174EA6;\n",
              "    }\n",
              "\n",
              "    .colab-df-buttons div {\n",
              "      margin-bottom: 4px;\n",
              "    }\n",
              "\n",
              "    [theme=dark] .colab-df-convert {\n",
              "      background-color: #3B4455;\n",
              "      fill: #D2E3FC;\n",
              "    }\n",
              "\n",
              "    [theme=dark] .colab-df-convert:hover {\n",
              "      background-color: #434B5C;\n",
              "      box-shadow: 0px 1px 3px 1px rgba(0, 0, 0, 0.15);\n",
              "      filter: drop-shadow(0px 1px 2px rgba(0, 0, 0, 0.3));\n",
              "      fill: #FFFFFF;\n",
              "    }\n",
              "  </style>\n",
              "\n",
              "    <script>\n",
              "      const buttonEl =\n",
              "        document.querySelector('#df-87214d9d-7cc1-4288-818e-9d6c59535bd8 button.colab-df-convert');\n",
              "      buttonEl.style.display =\n",
              "        google.colab.kernel.accessAllowed ? 'block' : 'none';\n",
              "\n",
              "      async function convertToInteractive(key) {\n",
              "        const element = document.querySelector('#df-87214d9d-7cc1-4288-818e-9d6c59535bd8');\n",
              "        const dataTable =\n",
              "          await google.colab.kernel.invokeFunction('convertToInteractive',\n",
              "                                                    [key], {});\n",
              "        if (!dataTable) return;\n",
              "\n",
              "        const docLinkHtml = 'Like what you see? Visit the ' +\n",
              "          '<a target=\"_blank\" href=https://colab.research.google.com/notebooks/data_table.ipynb>data table notebook</a>'\n",
              "          + ' to learn more about interactive tables.';\n",
              "        element.innerHTML = '';\n",
              "        dataTable['output_type'] = 'display_data';\n",
              "        await google.colab.output.renderOutput(dataTable, element);\n",
              "        const docLink = document.createElement('div');\n",
              "        docLink.innerHTML = docLinkHtml;\n",
              "        element.appendChild(docLink);\n",
              "      }\n",
              "    </script>\n",
              "  </div>\n",
              "\n",
              "\n",
              "<div id=\"df-31ec65d0-0a2e-4f4b-83a8-efea87abd1f8\">\n",
              "  <button class=\"colab-df-quickchart\" onclick=\"quickchart('df-31ec65d0-0a2e-4f4b-83a8-efea87abd1f8')\"\n",
              "            title=\"Suggest charts\"\n",
              "            style=\"display:none;\">\n",
              "\n",
              "<svg xmlns=\"http://www.w3.org/2000/svg\" height=\"24px\"viewBox=\"0 0 24 24\"\n",
              "     width=\"24px\">\n",
              "    <g>\n",
              "        <path d=\"M19 3H5c-1.1 0-2 .9-2 2v14c0 1.1.9 2 2 2h14c1.1 0 2-.9 2-2V5c0-1.1-.9-2-2-2zM9 17H7v-7h2v7zm4 0h-2V7h2v10zm4 0h-2v-4h2v4z\"/>\n",
              "    </g>\n",
              "</svg>\n",
              "  </button>\n",
              "\n",
              "<style>\n",
              "  .colab-df-quickchart {\n",
              "      --bg-color: #E8F0FE;\n",
              "      --fill-color: #1967D2;\n",
              "      --hover-bg-color: #E2EBFA;\n",
              "      --hover-fill-color: #174EA6;\n",
              "      --disabled-fill-color: #AAA;\n",
              "      --disabled-bg-color: #DDD;\n",
              "  }\n",
              "\n",
              "  [theme=dark] .colab-df-quickchart {\n",
              "      --bg-color: #3B4455;\n",
              "      --fill-color: #D2E3FC;\n",
              "      --hover-bg-color: #434B5C;\n",
              "      --hover-fill-color: #FFFFFF;\n",
              "      --disabled-bg-color: #3B4455;\n",
              "      --disabled-fill-color: #666;\n",
              "  }\n",
              "\n",
              "  .colab-df-quickchart {\n",
              "    background-color: var(--bg-color);\n",
              "    border: none;\n",
              "    border-radius: 50%;\n",
              "    cursor: pointer;\n",
              "    display: none;\n",
              "    fill: var(--fill-color);\n",
              "    height: 32px;\n",
              "    padding: 0;\n",
              "    width: 32px;\n",
              "  }\n",
              "\n",
              "  .colab-df-quickchart:hover {\n",
              "    background-color: var(--hover-bg-color);\n",
              "    box-shadow: 0 1px 2px rgba(60, 64, 67, 0.3), 0 1px 3px 1px rgba(60, 64, 67, 0.15);\n",
              "    fill: var(--button-hover-fill-color);\n",
              "  }\n",
              "\n",
              "  .colab-df-quickchart-complete:disabled,\n",
              "  .colab-df-quickchart-complete:disabled:hover {\n",
              "    background-color: var(--disabled-bg-color);\n",
              "    fill: var(--disabled-fill-color);\n",
              "    box-shadow: none;\n",
              "  }\n",
              "\n",
              "  .colab-df-spinner {\n",
              "    border: 2px solid var(--fill-color);\n",
              "    border-color: transparent;\n",
              "    border-bottom-color: var(--fill-color);\n",
              "    animation:\n",
              "      spin 1s steps(1) infinite;\n",
              "  }\n",
              "\n",
              "  @keyframes spin {\n",
              "    0% {\n",
              "      border-color: transparent;\n",
              "      border-bottom-color: var(--fill-color);\n",
              "      border-left-color: var(--fill-color);\n",
              "    }\n",
              "    20% {\n",
              "      border-color: transparent;\n",
              "      border-left-color: var(--fill-color);\n",
              "      border-top-color: var(--fill-color);\n",
              "    }\n",
              "    30% {\n",
              "      border-color: transparent;\n",
              "      border-left-color: var(--fill-color);\n",
              "      border-top-color: var(--fill-color);\n",
              "      border-right-color: var(--fill-color);\n",
              "    }\n",
              "    40% {\n",
              "      border-color: transparent;\n",
              "      border-right-color: var(--fill-color);\n",
              "      border-top-color: var(--fill-color);\n",
              "    }\n",
              "    60% {\n",
              "      border-color: transparent;\n",
              "      border-right-color: var(--fill-color);\n",
              "    }\n",
              "    80% {\n",
              "      border-color: transparent;\n",
              "      border-right-color: var(--fill-color);\n",
              "      border-bottom-color: var(--fill-color);\n",
              "    }\n",
              "    90% {\n",
              "      border-color: transparent;\n",
              "      border-bottom-color: var(--fill-color);\n",
              "    }\n",
              "  }\n",
              "</style>\n",
              "\n",
              "  <script>\n",
              "    async function quickchart(key) {\n",
              "      const quickchartButtonEl =\n",
              "        document.querySelector('#' + key + ' button');\n",
              "      quickchartButtonEl.disabled = true;  // To prevent multiple clicks.\n",
              "      quickchartButtonEl.classList.add('colab-df-spinner');\n",
              "      try {\n",
              "        const charts = await google.colab.kernel.invokeFunction(\n",
              "            'suggestCharts', [key], {});\n",
              "      } catch (error) {\n",
              "        console.error('Error during call to suggestCharts:', error);\n",
              "      }\n",
              "      quickchartButtonEl.classList.remove('colab-df-spinner');\n",
              "      quickchartButtonEl.classList.add('colab-df-quickchart-complete');\n",
              "    }\n",
              "    (() => {\n",
              "      let quickchartButtonEl =\n",
              "        document.querySelector('#df-31ec65d0-0a2e-4f4b-83a8-efea87abd1f8 button');\n",
              "      quickchartButtonEl.style.display =\n",
              "        google.colab.kernel.accessAllowed ? 'block' : 'none';\n",
              "    })();\n",
              "  </script>\n",
              "</div>\n",
              "    </div>\n",
              "  </div>\n"
            ]
          },
          "metadata": {},
          "execution_count": 46
        }
      ]
    },
    {
      "cell_type": "markdown",
      "source": [
        "В данных присутствуют минусовые суммы покупок."
      ],
      "metadata": {
        "id": "lONobrG7bm7Z"
      }
    },
    {
      "cell_type": "markdown",
      "source": [
        "### Какое максимальное кол-во покупок было совершено одним пользователем?"
      ],
      "metadata": {
        "id": "3Chr1QI0hBdp"
      }
    },
    {
      "cell_type": "code",
      "source": [
        "# Сгруппируем данные по id пользователя, посчитаем кол-во уникальных заказов по каждому пользователю\n",
        "df.groupby('CustomerCode', as_index=False).agg({'InvoiceNo': 'nunique'}).sort_values('InvoiceNo', ascending=False).head(1)['InvoiceNo']"
      ],
      "metadata": {
        "colab": {
          "base_uri": "https://localhost:8080/"
        },
        "id": "MMEApW5whCyx",
        "outputId": "f895be95-4ed1-4fce-a583-dd39838f0c8a"
      },
      "execution_count": 39,
      "outputs": [
        {
          "output_type": "execute_result",
          "data": {
            "text/plain": [
              "89388    204\n",
              "Name: InvoiceNo, dtype: int64"
            ]
          },
          "metadata": {},
          "execution_count": 39
        }
      ]
    },
    {
      "cell_type": "markdown",
      "source": [
        "### RFM сегментация"
      ],
      "metadata": {
        "id": "lWdHM7Ogi-gU"
      }
    },
    {
      "cell_type": "code",
      "source": [
        "# Создадим новый датафрейм\n",
        "RFM_data = df[['CustomerCode', 'InvoiceDate', 'Amount', 'InvoiceNo']]\n",
        "RFM_data.head()"
      ],
      "metadata": {
        "colab": {
          "base_uri": "https://localhost:8080/",
          "height": 206
        },
        "id": "1F7w89HIjIzZ",
        "outputId": "6b4d1b6e-d3d1-40d8-ee24-cc462d098977"
      },
      "execution_count": 17,
      "outputs": [
        {
          "output_type": "execute_result",
          "data": {
            "text/plain": [
              "  CustomerCode InvoiceDate   Amount       InvoiceNo\n",
              "0     19067290  2020-09-01  1716.00  C0011810010001\n",
              "1     13233933  2020-09-01  1489.74  C0011810010017\n",
              "2     99057968  2020-09-01   151.47  C0011810010020\n",
              "3     80007276  2020-09-01   146.72  C0011810010021\n",
              "4     13164076  2020-09-01   104.00  C0011810010024"
            ],
            "text/html": [
              "\n",
              "  <div id=\"df-248f2765-1619-4baa-a9df-f782d8bc398c\" class=\"colab-df-container\">\n",
              "    <div>\n",
              "<style scoped>\n",
              "    .dataframe tbody tr th:only-of-type {\n",
              "        vertical-align: middle;\n",
              "    }\n",
              "\n",
              "    .dataframe tbody tr th {\n",
              "        vertical-align: top;\n",
              "    }\n",
              "\n",
              "    .dataframe thead th {\n",
              "        text-align: right;\n",
              "    }\n",
              "</style>\n",
              "<table border=\"1\" class=\"dataframe\">\n",
              "  <thead>\n",
              "    <tr style=\"text-align: right;\">\n",
              "      <th></th>\n",
              "      <th>CustomerCode</th>\n",
              "      <th>InvoiceDate</th>\n",
              "      <th>Amount</th>\n",
              "      <th>InvoiceNo</th>\n",
              "    </tr>\n",
              "  </thead>\n",
              "  <tbody>\n",
              "    <tr>\n",
              "      <th>0</th>\n",
              "      <td>19067290</td>\n",
              "      <td>2020-09-01</td>\n",
              "      <td>1716.00</td>\n",
              "      <td>C0011810010001</td>\n",
              "    </tr>\n",
              "    <tr>\n",
              "      <th>1</th>\n",
              "      <td>13233933</td>\n",
              "      <td>2020-09-01</td>\n",
              "      <td>1489.74</td>\n",
              "      <td>C0011810010017</td>\n",
              "    </tr>\n",
              "    <tr>\n",
              "      <th>2</th>\n",
              "      <td>99057968</td>\n",
              "      <td>2020-09-01</td>\n",
              "      <td>151.47</td>\n",
              "      <td>C0011810010020</td>\n",
              "    </tr>\n",
              "    <tr>\n",
              "      <th>3</th>\n",
              "      <td>80007276</td>\n",
              "      <td>2020-09-01</td>\n",
              "      <td>146.72</td>\n",
              "      <td>C0011810010021</td>\n",
              "    </tr>\n",
              "    <tr>\n",
              "      <th>4</th>\n",
              "      <td>13164076</td>\n",
              "      <td>2020-09-01</td>\n",
              "      <td>104.00</td>\n",
              "      <td>C0011810010024</td>\n",
              "    </tr>\n",
              "  </tbody>\n",
              "</table>\n",
              "</div>\n",
              "    <div class=\"colab-df-buttons\">\n",
              "\n",
              "  <div class=\"colab-df-container\">\n",
              "    <button class=\"colab-df-convert\" onclick=\"convertToInteractive('df-248f2765-1619-4baa-a9df-f782d8bc398c')\"\n",
              "            title=\"Convert this dataframe to an interactive table.\"\n",
              "            style=\"display:none;\">\n",
              "\n",
              "  <svg xmlns=\"http://www.w3.org/2000/svg\" height=\"24px\" viewBox=\"0 -960 960 960\">\n",
              "    <path d=\"M120-120v-720h720v720H120Zm60-500h600v-160H180v160Zm220 220h160v-160H400v160Zm0 220h160v-160H400v160ZM180-400h160v-160H180v160Zm440 0h160v-160H620v160ZM180-180h160v-160H180v160Zm440 0h160v-160H620v160Z\"/>\n",
              "  </svg>\n",
              "    </button>\n",
              "\n",
              "  <style>\n",
              "    .colab-df-container {\n",
              "      display:flex;\n",
              "      gap: 12px;\n",
              "    }\n",
              "\n",
              "    .colab-df-convert {\n",
              "      background-color: #E8F0FE;\n",
              "      border: none;\n",
              "      border-radius: 50%;\n",
              "      cursor: pointer;\n",
              "      display: none;\n",
              "      fill: #1967D2;\n",
              "      height: 32px;\n",
              "      padding: 0 0 0 0;\n",
              "      width: 32px;\n",
              "    }\n",
              "\n",
              "    .colab-df-convert:hover {\n",
              "      background-color: #E2EBFA;\n",
              "      box-shadow: 0px 1px 2px rgba(60, 64, 67, 0.3), 0px 1px 3px 1px rgba(60, 64, 67, 0.15);\n",
              "      fill: #174EA6;\n",
              "    }\n",
              "\n",
              "    .colab-df-buttons div {\n",
              "      margin-bottom: 4px;\n",
              "    }\n",
              "\n",
              "    [theme=dark] .colab-df-convert {\n",
              "      background-color: #3B4455;\n",
              "      fill: #D2E3FC;\n",
              "    }\n",
              "\n",
              "    [theme=dark] .colab-df-convert:hover {\n",
              "      background-color: #434B5C;\n",
              "      box-shadow: 0px 1px 3px 1px rgba(0, 0, 0, 0.15);\n",
              "      filter: drop-shadow(0px 1px 2px rgba(0, 0, 0, 0.3));\n",
              "      fill: #FFFFFF;\n",
              "    }\n",
              "  </style>\n",
              "\n",
              "    <script>\n",
              "      const buttonEl =\n",
              "        document.querySelector('#df-248f2765-1619-4baa-a9df-f782d8bc398c button.colab-df-convert');\n",
              "      buttonEl.style.display =\n",
              "        google.colab.kernel.accessAllowed ? 'block' : 'none';\n",
              "\n",
              "      async function convertToInteractive(key) {\n",
              "        const element = document.querySelector('#df-248f2765-1619-4baa-a9df-f782d8bc398c');\n",
              "        const dataTable =\n",
              "          await google.colab.kernel.invokeFunction('convertToInteractive',\n",
              "                                                    [key], {});\n",
              "        if (!dataTable) return;\n",
              "\n",
              "        const docLinkHtml = 'Like what you see? Visit the ' +\n",
              "          '<a target=\"_blank\" href=https://colab.research.google.com/notebooks/data_table.ipynb>data table notebook</a>'\n",
              "          + ' to learn more about interactive tables.';\n",
              "        element.innerHTML = '';\n",
              "        dataTable['output_type'] = 'display_data';\n",
              "        await google.colab.output.renderOutput(dataTable, element);\n",
              "        const docLink = document.createElement('div');\n",
              "        docLink.innerHTML = docLinkHtml;\n",
              "        element.appendChild(docLink);\n",
              "      }\n",
              "    </script>\n",
              "  </div>\n",
              "\n",
              "\n",
              "<div id=\"df-25828b9d-debf-4fa3-8891-8856fbbb4911\">\n",
              "  <button class=\"colab-df-quickchart\" onclick=\"quickchart('df-25828b9d-debf-4fa3-8891-8856fbbb4911')\"\n",
              "            title=\"Suggest charts\"\n",
              "            style=\"display:none;\">\n",
              "\n",
              "<svg xmlns=\"http://www.w3.org/2000/svg\" height=\"24px\"viewBox=\"0 0 24 24\"\n",
              "     width=\"24px\">\n",
              "    <g>\n",
              "        <path d=\"M19 3H5c-1.1 0-2 .9-2 2v14c0 1.1.9 2 2 2h14c1.1 0 2-.9 2-2V5c0-1.1-.9-2-2-2zM9 17H7v-7h2v7zm4 0h-2V7h2v10zm4 0h-2v-4h2v4z\"/>\n",
              "    </g>\n",
              "</svg>\n",
              "  </button>\n",
              "\n",
              "<style>\n",
              "  .colab-df-quickchart {\n",
              "      --bg-color: #E8F0FE;\n",
              "      --fill-color: #1967D2;\n",
              "      --hover-bg-color: #E2EBFA;\n",
              "      --hover-fill-color: #174EA6;\n",
              "      --disabled-fill-color: #AAA;\n",
              "      --disabled-bg-color: #DDD;\n",
              "  }\n",
              "\n",
              "  [theme=dark] .colab-df-quickchart {\n",
              "      --bg-color: #3B4455;\n",
              "      --fill-color: #D2E3FC;\n",
              "      --hover-bg-color: #434B5C;\n",
              "      --hover-fill-color: #FFFFFF;\n",
              "      --disabled-bg-color: #3B4455;\n",
              "      --disabled-fill-color: #666;\n",
              "  }\n",
              "\n",
              "  .colab-df-quickchart {\n",
              "    background-color: var(--bg-color);\n",
              "    border: none;\n",
              "    border-radius: 50%;\n",
              "    cursor: pointer;\n",
              "    display: none;\n",
              "    fill: var(--fill-color);\n",
              "    height: 32px;\n",
              "    padding: 0;\n",
              "    width: 32px;\n",
              "  }\n",
              "\n",
              "  .colab-df-quickchart:hover {\n",
              "    background-color: var(--hover-bg-color);\n",
              "    box-shadow: 0 1px 2px rgba(60, 64, 67, 0.3), 0 1px 3px 1px rgba(60, 64, 67, 0.15);\n",
              "    fill: var(--button-hover-fill-color);\n",
              "  }\n",
              "\n",
              "  .colab-df-quickchart-complete:disabled,\n",
              "  .colab-df-quickchart-complete:disabled:hover {\n",
              "    background-color: var(--disabled-bg-color);\n",
              "    fill: var(--disabled-fill-color);\n",
              "    box-shadow: none;\n",
              "  }\n",
              "\n",
              "  .colab-df-spinner {\n",
              "    border: 2px solid var(--fill-color);\n",
              "    border-color: transparent;\n",
              "    border-bottom-color: var(--fill-color);\n",
              "    animation:\n",
              "      spin 1s steps(1) infinite;\n",
              "  }\n",
              "\n",
              "  @keyframes spin {\n",
              "    0% {\n",
              "      border-color: transparent;\n",
              "      border-bottom-color: var(--fill-color);\n",
              "      border-left-color: var(--fill-color);\n",
              "    }\n",
              "    20% {\n",
              "      border-color: transparent;\n",
              "      border-left-color: var(--fill-color);\n",
              "      border-top-color: var(--fill-color);\n",
              "    }\n",
              "    30% {\n",
              "      border-color: transparent;\n",
              "      border-left-color: var(--fill-color);\n",
              "      border-top-color: var(--fill-color);\n",
              "      border-right-color: var(--fill-color);\n",
              "    }\n",
              "    40% {\n",
              "      border-color: transparent;\n",
              "      border-right-color: var(--fill-color);\n",
              "      border-top-color: var(--fill-color);\n",
              "    }\n",
              "    60% {\n",
              "      border-color: transparent;\n",
              "      border-right-color: var(--fill-color);\n",
              "    }\n",
              "    80% {\n",
              "      border-color: transparent;\n",
              "      border-right-color: var(--fill-color);\n",
              "      border-bottom-color: var(--fill-color);\n",
              "    }\n",
              "    90% {\n",
              "      border-color: transparent;\n",
              "      border-bottom-color: var(--fill-color);\n",
              "    }\n",
              "  }\n",
              "</style>\n",
              "\n",
              "  <script>\n",
              "    async function quickchart(key) {\n",
              "      const quickchartButtonEl =\n",
              "        document.querySelector('#' + key + ' button');\n",
              "      quickchartButtonEl.disabled = true;  // To prevent multiple clicks.\n",
              "      quickchartButtonEl.classList.add('colab-df-spinner');\n",
              "      try {\n",
              "        const charts = await google.colab.kernel.invokeFunction(\n",
              "            'suggestCharts', [key], {});\n",
              "      } catch (error) {\n",
              "        console.error('Error during call to suggestCharts:', error);\n",
              "      }\n",
              "      quickchartButtonEl.classList.remove('colab-df-spinner');\n",
              "      quickchartButtonEl.classList.add('colab-df-quickchart-complete');\n",
              "    }\n",
              "    (() => {\n",
              "      let quickchartButtonEl =\n",
              "        document.querySelector('#df-25828b9d-debf-4fa3-8891-8856fbbb4911 button');\n",
              "      quickchartButtonEl.style.display =\n",
              "        google.colab.kernel.accessAllowed ? 'block' : 'none';\n",
              "    })();\n",
              "  </script>\n",
              "</div>\n",
              "    </div>\n",
              "  </div>\n"
            ]
          },
          "metadata": {},
          "execution_count": 17
        }
      ]
    },
    {
      "cell_type": "code",
      "source": [
        "# Переведем столбец с датой покупки в формат datetime\n",
        "RFM_data['InvoiceDate'] = pd.to_datetime(RFM_data['InvoiceDate'])"
      ],
      "metadata": {
        "id": "pkRh-3LAknOu"
      },
      "execution_count": 18,
      "outputs": []
    },
    {
      "cell_type": "markdown",
      "source": [
        "Для начала добавим новые столбцы к нашей таблице"
      ],
      "metadata": {
        "id": "7SrMq-bdjX-n"
      }
    },
    {
      "cell_type": "code",
      "source": [
        "# Создадим переменную now в которой будет содержаться дата отсчета\n",
        "from datetime import timedelta\n",
        "now = RFM_data.InvoiceDate.max()"
      ],
      "metadata": {
        "id": "zWXgvpdUj3OB"
      },
      "execution_count": 19,
      "outputs": []
    },
    {
      "cell_type": "code",
      "source": [
        "# Сформируем столбцы с кол-вом дней с последней покупки, кол-вом уникальных покупок на пользователя, и суммой покупок на пользователя.\n",
        "RFM_data = RFM_data.groupby('CustomerCode', as_index=False).agg({'InvoiceDate': lambda x: (now-x.max()).days,\n",
        "                                                                 'InvoiceNo': lambda x: x.nunique(),\n",
        "                                                                 'Amount': lambda x: x.sum()})"
      ],
      "metadata": {
        "id": "CJdtSRF7pmTU"
      },
      "execution_count": 20,
      "outputs": []
    },
    {
      "cell_type": "code",
      "source": [
        "# Переименуем столбцы и сменим тип данных в столбце с кол-вом дней с последней покупки\n",
        "RFM_data = RFM_data.rename(columns={'InvoiceDate': 'Recency', 'InvoiceNo': 'Frequency', 'Amount': 'Monetary'})\n",
        "RFM_data['Recency'] = RFM_data['Recency'].astype(int)"
      ],
      "metadata": {
        "id": "gfhpPSOOtjIn"
      },
      "execution_count": 21,
      "outputs": []
    },
    {
      "cell_type": "code",
      "source": [
        "# Создадим переменные по подсегметам с пограничными значениями с помошью квантилей\n",
        "recency_quant = RFM_data.quantile([0, .25, .5, .75, 1])['Recency'].to_dict()\n",
        "frequency_quant = RFM_data.quantile([0, .25, .5, .75, 1])['Frequency'].to_dict()\n",
        "monetary_quant = RFM_data.quantile([0, .25, .5, .75, 1])['Monetary'].to_dict()"
      ],
      "metadata": {
        "colab": {
          "base_uri": "https://localhost:8080/"
        },
        "id": "llau_RvoXwwZ",
        "outputId": "badd815f-5d76-4c32-c390-5df0867bf931"
      },
      "execution_count": 22,
      "outputs": [
        {
          "output_type": "stream",
          "name": "stderr",
          "text": [
            "<ipython-input-22-76c4b7291546>:2: FutureWarning: The default value of numeric_only in DataFrame.quantile is deprecated. In a future version, it will default to False. Select only valid columns or specify the value of numeric_only to silence this warning.\n",
            "  recency_quant = RFM_data.quantile([0, .25, .5, .75, 1])['Recency'].to_dict()\n",
            "<ipython-input-22-76c4b7291546>:3: FutureWarning: The default value of numeric_only in DataFrame.quantile is deprecated. In a future version, it will default to False. Select only valid columns or specify the value of numeric_only to silence this warning.\n",
            "  frequency_quant = RFM_data.quantile([0, .25, .5, .75, 1])['Frequency'].to_dict()\n",
            "<ipython-input-22-76c4b7291546>:4: FutureWarning: The default value of numeric_only in DataFrame.quantile is deprecated. In a future version, it will default to False. Select only valid columns or specify the value of numeric_only to silence this warning.\n",
            "  monetary_quant = RFM_data.quantile([0, .25, .5, .75, 1])['Monetary'].to_dict()\n"
          ]
        }
      ]
    },
    {
      "cell_type": "code",
      "source": [
        "# Создаем функции для присваивания баллов по каждому подсегменту\n",
        "def r_split(x):\n",
        "  if x <= recency_quant[0.25]:\n",
        "    return 1\n",
        "  elif recency_quant[0.25] < x <= recency_quant[0.5]:\n",
        "    return 2\n",
        "  elif recency_quant[0.5] < x <= recency_quant[0.75]:\n",
        "    return 3\n",
        "  else:\n",
        "    return 4\n",
        "\n",
        "def f_split(x):\n",
        "  if x <= frequency_quant[0.25]:\n",
        "    return 4\n",
        "  elif frequency_quant[0.25] < x <= frequency_quant[0.5]:\n",
        "    return 3\n",
        "  elif frequency_quant[0.5] < x <= frequency_quant[0.75]:\n",
        "    return 2\n",
        "  else:\n",
        "    return 1\n",
        "\n",
        "def m_split(x):\n",
        "  if x <= monetary_quant[0.25]:\n",
        "    return 4\n",
        "  elif monetary_quant[0.25] < x <= monetary_quant[0.5]:\n",
        "    return 3\n",
        "  elif monetary_quant[0.5] < x <= monetary_quant[0.75]:\n",
        "    return 2\n",
        "  else:\n",
        "    return 1"
      ],
      "metadata": {
        "id": "Pv1o09EEZ4Gv"
      },
      "execution_count": 23,
      "outputs": []
    },
    {
      "cell_type": "code",
      "source": [
        "# Присвоим баллы пользователям по подсегментам\n",
        "RFM_data['R'] = RFM_data['Recency'].apply(r_split)\n",
        "RFM_data['F'] = RFM_data['Frequency'].apply(f_split)\n",
        "RFM_data['M'] = RFM_data['Monetary'].apply(m_split)"
      ],
      "metadata": {
        "id": "x2iWlSblj5tw"
      },
      "execution_count": 24,
      "outputs": []
    },
    {
      "cell_type": "code",
      "source": [
        "# Объединим оценки в один столбец\n",
        "RFM_data['RFM_score'] = RFM_data['R'].map(str) + RFM_data['F'].map(str) + RFM_data['M'].map(str)"
      ],
      "metadata": {
        "id": "L9ZgMTWokW1S"
      },
      "execution_count": 25,
      "outputs": []
    },
    {
      "cell_type": "code",
      "source": [
        "RFM_data.head()"
      ],
      "metadata": {
        "colab": {
          "base_uri": "https://localhost:8080/",
          "height": 206
        },
        "id": "fKeNIDWIa4_i",
        "outputId": "e70dfea7-a274-4ccd-e334-b139c12ee061"
      },
      "execution_count": 44,
      "outputs": [
        {
          "output_type": "execute_result",
          "data": {
            "text/plain": [
              "  CustomerCode  Recency  Frequency  Monetary  R  F  M RFM_score\n",
              "0     02213019       19          1   1609.20  4  4  3       443\n",
              "1     02213042       22          3   9685.48  4  2  1       421\n",
              "2     02213071       29          1    415.00  4  4  4       444\n",
              "3     02213088       23          1    305.00  4  4  4       444\n",
              "4     02213092       25          1   1412.88  4  4  3       443"
            ],
            "text/html": [
              "\n",
              "  <div id=\"df-ce66ef85-d375-4f74-acca-a62136b7b33e\" class=\"colab-df-container\">\n",
              "    <div>\n",
              "<style scoped>\n",
              "    .dataframe tbody tr th:only-of-type {\n",
              "        vertical-align: middle;\n",
              "    }\n",
              "\n",
              "    .dataframe tbody tr th {\n",
              "        vertical-align: top;\n",
              "    }\n",
              "\n",
              "    .dataframe thead th {\n",
              "        text-align: right;\n",
              "    }\n",
              "</style>\n",
              "<table border=\"1\" class=\"dataframe\">\n",
              "  <thead>\n",
              "    <tr style=\"text-align: right;\">\n",
              "      <th></th>\n",
              "      <th>CustomerCode</th>\n",
              "      <th>Recency</th>\n",
              "      <th>Frequency</th>\n",
              "      <th>Monetary</th>\n",
              "      <th>R</th>\n",
              "      <th>F</th>\n",
              "      <th>M</th>\n",
              "      <th>RFM_score</th>\n",
              "    </tr>\n",
              "  </thead>\n",
              "  <tbody>\n",
              "    <tr>\n",
              "      <th>0</th>\n",
              "      <td>02213019</td>\n",
              "      <td>19</td>\n",
              "      <td>1</td>\n",
              "      <td>1609.20</td>\n",
              "      <td>4</td>\n",
              "      <td>4</td>\n",
              "      <td>3</td>\n",
              "      <td>443</td>\n",
              "    </tr>\n",
              "    <tr>\n",
              "      <th>1</th>\n",
              "      <td>02213042</td>\n",
              "      <td>22</td>\n",
              "      <td>3</td>\n",
              "      <td>9685.48</td>\n",
              "      <td>4</td>\n",
              "      <td>2</td>\n",
              "      <td>1</td>\n",
              "      <td>421</td>\n",
              "    </tr>\n",
              "    <tr>\n",
              "      <th>2</th>\n",
              "      <td>02213071</td>\n",
              "      <td>29</td>\n",
              "      <td>1</td>\n",
              "      <td>415.00</td>\n",
              "      <td>4</td>\n",
              "      <td>4</td>\n",
              "      <td>4</td>\n",
              "      <td>444</td>\n",
              "    </tr>\n",
              "    <tr>\n",
              "      <th>3</th>\n",
              "      <td>02213088</td>\n",
              "      <td>23</td>\n",
              "      <td>1</td>\n",
              "      <td>305.00</td>\n",
              "      <td>4</td>\n",
              "      <td>4</td>\n",
              "      <td>4</td>\n",
              "      <td>444</td>\n",
              "    </tr>\n",
              "    <tr>\n",
              "      <th>4</th>\n",
              "      <td>02213092</td>\n",
              "      <td>25</td>\n",
              "      <td>1</td>\n",
              "      <td>1412.88</td>\n",
              "      <td>4</td>\n",
              "      <td>4</td>\n",
              "      <td>3</td>\n",
              "      <td>443</td>\n",
              "    </tr>\n",
              "  </tbody>\n",
              "</table>\n",
              "</div>\n",
              "    <div class=\"colab-df-buttons\">\n",
              "\n",
              "  <div class=\"colab-df-container\">\n",
              "    <button class=\"colab-df-convert\" onclick=\"convertToInteractive('df-ce66ef85-d375-4f74-acca-a62136b7b33e')\"\n",
              "            title=\"Convert this dataframe to an interactive table.\"\n",
              "            style=\"display:none;\">\n",
              "\n",
              "  <svg xmlns=\"http://www.w3.org/2000/svg\" height=\"24px\" viewBox=\"0 -960 960 960\">\n",
              "    <path d=\"M120-120v-720h720v720H120Zm60-500h600v-160H180v160Zm220 220h160v-160H400v160Zm0 220h160v-160H400v160ZM180-400h160v-160H180v160Zm440 0h160v-160H620v160ZM180-180h160v-160H180v160Zm440 0h160v-160H620v160Z\"/>\n",
              "  </svg>\n",
              "    </button>\n",
              "\n",
              "  <style>\n",
              "    .colab-df-container {\n",
              "      display:flex;\n",
              "      gap: 12px;\n",
              "    }\n",
              "\n",
              "    .colab-df-convert {\n",
              "      background-color: #E8F0FE;\n",
              "      border: none;\n",
              "      border-radius: 50%;\n",
              "      cursor: pointer;\n",
              "      display: none;\n",
              "      fill: #1967D2;\n",
              "      height: 32px;\n",
              "      padding: 0 0 0 0;\n",
              "      width: 32px;\n",
              "    }\n",
              "\n",
              "    .colab-df-convert:hover {\n",
              "      background-color: #E2EBFA;\n",
              "      box-shadow: 0px 1px 2px rgba(60, 64, 67, 0.3), 0px 1px 3px 1px rgba(60, 64, 67, 0.15);\n",
              "      fill: #174EA6;\n",
              "    }\n",
              "\n",
              "    .colab-df-buttons div {\n",
              "      margin-bottom: 4px;\n",
              "    }\n",
              "\n",
              "    [theme=dark] .colab-df-convert {\n",
              "      background-color: #3B4455;\n",
              "      fill: #D2E3FC;\n",
              "    }\n",
              "\n",
              "    [theme=dark] .colab-df-convert:hover {\n",
              "      background-color: #434B5C;\n",
              "      box-shadow: 0px 1px 3px 1px rgba(0, 0, 0, 0.15);\n",
              "      filter: drop-shadow(0px 1px 2px rgba(0, 0, 0, 0.3));\n",
              "      fill: #FFFFFF;\n",
              "    }\n",
              "  </style>\n",
              "\n",
              "    <script>\n",
              "      const buttonEl =\n",
              "        document.querySelector('#df-ce66ef85-d375-4f74-acca-a62136b7b33e button.colab-df-convert');\n",
              "      buttonEl.style.display =\n",
              "        google.colab.kernel.accessAllowed ? 'block' : 'none';\n",
              "\n",
              "      async function convertToInteractive(key) {\n",
              "        const element = document.querySelector('#df-ce66ef85-d375-4f74-acca-a62136b7b33e');\n",
              "        const dataTable =\n",
              "          await google.colab.kernel.invokeFunction('convertToInteractive',\n",
              "                                                    [key], {});\n",
              "        if (!dataTable) return;\n",
              "\n",
              "        const docLinkHtml = 'Like what you see? Visit the ' +\n",
              "          '<a target=\"_blank\" href=https://colab.research.google.com/notebooks/data_table.ipynb>data table notebook</a>'\n",
              "          + ' to learn more about interactive tables.';\n",
              "        element.innerHTML = '';\n",
              "        dataTable['output_type'] = 'display_data';\n",
              "        await google.colab.output.renderOutput(dataTable, element);\n",
              "        const docLink = document.createElement('div');\n",
              "        docLink.innerHTML = docLinkHtml;\n",
              "        element.appendChild(docLink);\n",
              "      }\n",
              "    </script>\n",
              "  </div>\n",
              "\n",
              "\n",
              "<div id=\"df-459ca05a-33ca-479b-bc25-007dbb498c91\">\n",
              "  <button class=\"colab-df-quickchart\" onclick=\"quickchart('df-459ca05a-33ca-479b-bc25-007dbb498c91')\"\n",
              "            title=\"Suggest charts\"\n",
              "            style=\"display:none;\">\n",
              "\n",
              "<svg xmlns=\"http://www.w3.org/2000/svg\" height=\"24px\"viewBox=\"0 0 24 24\"\n",
              "     width=\"24px\">\n",
              "    <g>\n",
              "        <path d=\"M19 3H5c-1.1 0-2 .9-2 2v14c0 1.1.9 2 2 2h14c1.1 0 2-.9 2-2V5c0-1.1-.9-2-2-2zM9 17H7v-7h2v7zm4 0h-2V7h2v10zm4 0h-2v-4h2v4z\"/>\n",
              "    </g>\n",
              "</svg>\n",
              "  </button>\n",
              "\n",
              "<style>\n",
              "  .colab-df-quickchart {\n",
              "      --bg-color: #E8F0FE;\n",
              "      --fill-color: #1967D2;\n",
              "      --hover-bg-color: #E2EBFA;\n",
              "      --hover-fill-color: #174EA6;\n",
              "      --disabled-fill-color: #AAA;\n",
              "      --disabled-bg-color: #DDD;\n",
              "  }\n",
              "\n",
              "  [theme=dark] .colab-df-quickchart {\n",
              "      --bg-color: #3B4455;\n",
              "      --fill-color: #D2E3FC;\n",
              "      --hover-bg-color: #434B5C;\n",
              "      --hover-fill-color: #FFFFFF;\n",
              "      --disabled-bg-color: #3B4455;\n",
              "      --disabled-fill-color: #666;\n",
              "  }\n",
              "\n",
              "  .colab-df-quickchart {\n",
              "    background-color: var(--bg-color);\n",
              "    border: none;\n",
              "    border-radius: 50%;\n",
              "    cursor: pointer;\n",
              "    display: none;\n",
              "    fill: var(--fill-color);\n",
              "    height: 32px;\n",
              "    padding: 0;\n",
              "    width: 32px;\n",
              "  }\n",
              "\n",
              "  .colab-df-quickchart:hover {\n",
              "    background-color: var(--hover-bg-color);\n",
              "    box-shadow: 0 1px 2px rgba(60, 64, 67, 0.3), 0 1px 3px 1px rgba(60, 64, 67, 0.15);\n",
              "    fill: var(--button-hover-fill-color);\n",
              "  }\n",
              "\n",
              "  .colab-df-quickchart-complete:disabled,\n",
              "  .colab-df-quickchart-complete:disabled:hover {\n",
              "    background-color: var(--disabled-bg-color);\n",
              "    fill: var(--disabled-fill-color);\n",
              "    box-shadow: none;\n",
              "  }\n",
              "\n",
              "  .colab-df-spinner {\n",
              "    border: 2px solid var(--fill-color);\n",
              "    border-color: transparent;\n",
              "    border-bottom-color: var(--fill-color);\n",
              "    animation:\n",
              "      spin 1s steps(1) infinite;\n",
              "  }\n",
              "\n",
              "  @keyframes spin {\n",
              "    0% {\n",
              "      border-color: transparent;\n",
              "      border-bottom-color: var(--fill-color);\n",
              "      border-left-color: var(--fill-color);\n",
              "    }\n",
              "    20% {\n",
              "      border-color: transparent;\n",
              "      border-left-color: var(--fill-color);\n",
              "      border-top-color: var(--fill-color);\n",
              "    }\n",
              "    30% {\n",
              "      border-color: transparent;\n",
              "      border-left-color: var(--fill-color);\n",
              "      border-top-color: var(--fill-color);\n",
              "      border-right-color: var(--fill-color);\n",
              "    }\n",
              "    40% {\n",
              "      border-color: transparent;\n",
              "      border-right-color: var(--fill-color);\n",
              "      border-top-color: var(--fill-color);\n",
              "    }\n",
              "    60% {\n",
              "      border-color: transparent;\n",
              "      border-right-color: var(--fill-color);\n",
              "    }\n",
              "    80% {\n",
              "      border-color: transparent;\n",
              "      border-right-color: var(--fill-color);\n",
              "      border-bottom-color: var(--fill-color);\n",
              "    }\n",
              "    90% {\n",
              "      border-color: transparent;\n",
              "      border-bottom-color: var(--fill-color);\n",
              "    }\n",
              "  }\n",
              "</style>\n",
              "\n",
              "  <script>\n",
              "    async function quickchart(key) {\n",
              "      const quickchartButtonEl =\n",
              "        document.querySelector('#' + key + ' button');\n",
              "      quickchartButtonEl.disabled = true;  // To prevent multiple clicks.\n",
              "      quickchartButtonEl.classList.add('colab-df-spinner');\n",
              "      try {\n",
              "        const charts = await google.colab.kernel.invokeFunction(\n",
              "            'suggestCharts', [key], {});\n",
              "      } catch (error) {\n",
              "        console.error('Error during call to suggestCharts:', error);\n",
              "      }\n",
              "      quickchartButtonEl.classList.remove('colab-df-spinner');\n",
              "      quickchartButtonEl.classList.add('colab-df-quickchart-complete');\n",
              "    }\n",
              "    (() => {\n",
              "      let quickchartButtonEl =\n",
              "        document.querySelector('#df-459ca05a-33ca-479b-bc25-007dbb498c91 button');\n",
              "      quickchartButtonEl.style.display =\n",
              "        google.colab.kernel.accessAllowed ? 'block' : 'none';\n",
              "    })();\n",
              "  </script>\n",
              "</div>\n",
              "    </div>\n",
              "  </div>\n"
            ]
          },
          "metadata": {},
          "execution_count": 44
        }
      ]
    },
    {
      "cell_type": "markdown",
      "source": [
        "#### Какая верхняя граница у суммы покупок у пользователей с классом 4 в подсегменте М?"
      ],
      "metadata": {
        "id": "zwoX8SaRuiVA"
      }
    },
    {
      "cell_type": "code",
      "source": [
        "RFM_data.loc[RFM_data['M'] == 4]['Monetary'].max()"
      ],
      "metadata": {
        "colab": {
          "base_uri": "https://localhost:8080/"
        },
        "id": "Wq4epIBVvfwC",
        "outputId": "ccea153c-161b-429f-9b1f-48ba75106c7a"
      },
      "execution_count": 26,
      "outputs": [
        {
          "output_type": "execute_result",
          "data": {
            "text/plain": [
              "765.0"
            ]
          },
          "metadata": {},
          "execution_count": 26
        }
      ]
    },
    {
      "cell_type": "markdown",
      "source": [
        "#### Какая нижняя граница у количества покупок у пользователей с классом 1 в подсегменте F?"
      ],
      "metadata": {
        "id": "erECqT3JutH2"
      }
    },
    {
      "cell_type": "code",
      "source": [
        "RFM_data.loc[RFM_data['F'] == 1]['Frequency'].min()"
      ],
      "metadata": {
        "colab": {
          "base_uri": "https://localhost:8080/"
        },
        "id": "ebfRpyGbkYzX",
        "outputId": "2ee7bd9a-566d-4db1-ea0a-b6f436df0479"
      },
      "execution_count": 27,
      "outputs": [
        {
          "output_type": "execute_result",
          "data": {
            "text/plain": [
              "4"
            ]
          },
          "metadata": {},
          "execution_count": 27
        }
      ]
    },
    {
      "cell_type": "markdown",
      "source": [
        "#### Какое максимальное количество дней может пройти с момента последней покупки для того, чтобы пользователь попал в класс 2 в подсегменте R?"
      ],
      "metadata": {
        "id": "uU2J4C7au2k0"
      }
    },
    {
      "cell_type": "code",
      "source": [
        "RFM_data.loc[RFM_data['R'] == 2]['Recency'].max()"
      ],
      "metadata": {
        "colab": {
          "base_uri": "https://localhost:8080/"
        },
        "id": "jFErDG8Nk2ZZ",
        "outputId": "9be6a63e-2527-4d7a-941c-aa98e1e7d270"
      },
      "execution_count": 28,
      "outputs": [
        {
          "output_type": "execute_result",
          "data": {
            "text/plain": [
              "8"
            ]
          },
          "metadata": {},
          "execution_count": 28
        }
      ]
    },
    {
      "cell_type": "markdown",
      "source": [
        "#### Сколько пользователей попало в сегмент 111?"
      ],
      "metadata": {
        "id": "JSpuKkh_vKRS"
      }
    },
    {
      "cell_type": "code",
      "source": [
        "RFM_data.loc[RFM_data['RFM_score'] == '111'].shape[0]"
      ],
      "metadata": {
        "colab": {
          "base_uri": "https://localhost:8080/"
        },
        "id": "O2TIDucYsAqx",
        "outputId": "efd3785c-3408-40b8-a5a9-9b9aea2ef0d2"
      },
      "execution_count": 29,
      "outputs": [
        {
          "output_type": "execute_result",
          "data": {
            "text/plain": [
              "9705"
            ]
          },
          "metadata": {},
          "execution_count": 29
        }
      ]
    },
    {
      "cell_type": "markdown",
      "source": [
        "#### Сколько пользователей попало в сегмент 311?"
      ],
      "metadata": {
        "id": "2jb7YESgvr16"
      }
    },
    {
      "cell_type": "code",
      "source": [
        "RFM_data.loc[RFM_data['RFM_score'] == '311'].shape[0]"
      ],
      "metadata": {
        "colab": {
          "base_uri": "https://localhost:8080/"
        },
        "id": "cYAYHIQTvUNh",
        "outputId": "52c501ac-f975-44a7-ca0b-c522f9b71aac"
      },
      "execution_count": 30,
      "outputs": [
        {
          "output_type": "execute_result",
          "data": {
            "text/plain": [
              "1609"
            ]
          },
          "metadata": {},
          "execution_count": 30
        }
      ]
    },
    {
      "cell_type": "markdown",
      "source": [
        "#### В каком RFM-сегменте самое большое кол-во пользователей?"
      ],
      "metadata": {
        "id": "FQIiM8rIv1MM"
      }
    },
    {
      "cell_type": "code",
      "source": [
        "RFM_data.RFM_score.value_counts().head(1)"
      ],
      "metadata": {
        "colab": {
          "base_uri": "https://localhost:8080/"
        },
        "id": "xKEq1sGDvutw",
        "outputId": "5dcec0f0-c807-4a5d-977b-373be2d80f84"
      },
      "execution_count": 31,
      "outputs": [
        {
          "output_type": "execute_result",
          "data": {
            "text/plain": [
              "444    10624\n",
              "Name: RFM_score, dtype: int64"
            ]
          },
          "metadata": {},
          "execution_count": 31
        }
      ]
    },
    {
      "cell_type": "markdown",
      "source": [
        "#### В каком RFM-сегменте самое маленькое кол-во пользователей?"
      ],
      "metadata": {
        "id": "qC8LgyZjwcmX"
      }
    },
    {
      "cell_type": "code",
      "source": [
        "RFM_data.RFM_score.value_counts().tail(1)"
      ],
      "metadata": {
        "colab": {
          "base_uri": "https://localhost:8080/"
        },
        "id": "3j9h-f-Sv0S3",
        "outputId": "5e6be792-6c8a-4749-842c-c074e58f2959"
      },
      "execution_count": 32,
      "outputs": [
        {
          "output_type": "execute_result",
          "data": {
            "text/plain": [
              "414    2\n",
              "Name: RFM_score, dtype: int64"
            ]
          },
          "metadata": {},
          "execution_count": 32
        }
      ]
    },
    {
      "cell_type": "markdown",
      "source": [
        "#### Какое количество пользователей попало в самый малочисленный сегмент?"
      ],
      "metadata": {
        "id": "RAMC6RWfwkmE"
      }
    },
    {
      "cell_type": "code",
      "source": [
        "RFM_data.groupby('RFM_score', as_index=False).agg({'CustomerCode': 'nunique'}).sort_values('CustomerCode').head(1)['CustomerCode']"
      ],
      "metadata": {
        "colab": {
          "base_uri": "https://localhost:8080/"
        },
        "id": "z0V507YiwieF",
        "outputId": "2ee29798-6195-47e2-c22d-945a70988c1e"
      },
      "execution_count": 42,
      "outputs": [
        {
          "output_type": "execute_result",
          "data": {
            "text/plain": [
              "51    2\n",
              "Name: CustomerCode, dtype: int64"
            ]
          },
          "metadata": {},
          "execution_count": 42
        }
      ]
    },
    {
      "cell_type": "markdown",
      "source": [
        "### Визуализация сегментирования"
      ],
      "metadata": {
        "id": "ys-fPA4cyJRV"
      }
    },
    {
      "cell_type": "code",
      "source": [
        "plt.figure(figsize=(9, 9))\n",
        "sns.scatterplot(RFM_data, x='Frequency', y='Monetary', size='Recency', sizes=(20, 200), hue=\"Recency\")"
      ],
      "metadata": {
        "colab": {
          "base_uri": "https://localhost:8080/",
          "height": 790
        },
        "id": "qwb9t5nQ-ODR",
        "outputId": "20fdb0e5-dfdb-4ebe-c631-21fe9d18b2c5"
      },
      "execution_count": 35,
      "outputs": [
        {
          "output_type": "execute_result",
          "data": {
            "text/plain": [
              "<Axes: xlabel='Frequency', ylabel='Monetary'>"
            ]
          },
          "metadata": {},
          "execution_count": 35
        },
        {
          "output_type": "display_data",
          "data": {
            "text/plain": [
              "<Figure size 900x900 with 1 Axes>"
            ],
            "image/png": "[encoded data removed]"
          },
          "metadata": {}
        }
      ]
    }
  ]
}