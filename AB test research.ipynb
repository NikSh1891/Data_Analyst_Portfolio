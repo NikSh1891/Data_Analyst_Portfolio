{
 "cells": [
  {
   "cell_type": "markdown",
   "metadata": {},
   "source": [
    "# Загружаем необходимые библиотеки"
   ]
  },
  {
   "cell_type": "code",
   "execution_count": 1,
   "metadata": {},
   "outputs": [],
   "source": [
    "import matplotlib.pyplot as plt\n",
    "import numpy as np\n",
    "import pandas as pd\n",
    "import seaborn as sns\n",
    "import statsmodels.api as sm\n",
    "from scipy import stats\n",
    "from scipy.stats import chi2_contingency, chi2, norm\n",
    "import requests\n",
    "from urllib.parse import urlencode"
   ]
  },
  {
   "cell_type": "markdown",
   "metadata": {},
   "source": [
    "# Загрузим датасет с результатами А/В-теста"
   ]
  },
  {
   "cell_type": "code",
   "execution_count": 2,
   "metadata": {},
   "outputs": [],
   "source": [
    "# Функция для выгрузки данных через API\n",
    "def url(public_key):\n",
    "    base_url = 'https://cloud-api.yandex.net/v1/disk/public/resources/download?' \n",
    "    final_url = base_url + urlencode(dict(public_key=public_key))\n",
    "    response_active = requests.get(final_url)\n",
    "    download_url = response_active.json()['href']\n",
    "    return download_url\n"
   ]
  },
  {
   "cell_type": "code",
   "execution_count": 3,
   "metadata": {},
   "outputs": [
    {
     "data": {
      "text/html": [
       "<div>\n",
       "<style scoped>\n",
       "    .dataframe tbody tr th:only-of-type {\n",
       "        vertical-align: middle;\n",
       "    }\n",
       "\n",
       "    .dataframe tbody tr th {\n",
       "        vertical-align: top;\n",
       "    }\n",
       "\n",
       "    .dataframe thead th {\n",
       "        text-align: right;\n",
       "    }\n",
       "</style>\n",
       "<table border=\"1\" class=\"dataframe\">\n",
       "  <thead>\n",
       "    <tr style=\"text-align: right;\">\n",
       "      <th></th>\n",
       "      <th>user_id</th>\n",
       "      <th>revenue</th>\n",
       "      <th>testgroup</th>\n",
       "    </tr>\n",
       "  </thead>\n",
       "  <tbody>\n",
       "    <tr>\n",
       "      <th>0</th>\n",
       "      <td>1</td>\n",
       "      <td>0</td>\n",
       "      <td>b</td>\n",
       "    </tr>\n",
       "    <tr>\n",
       "      <th>1</th>\n",
       "      <td>2</td>\n",
       "      <td>0</td>\n",
       "      <td>a</td>\n",
       "    </tr>\n",
       "    <tr>\n",
       "      <th>2</th>\n",
       "      <td>3</td>\n",
       "      <td>0</td>\n",
       "      <td>a</td>\n",
       "    </tr>\n",
       "    <tr>\n",
       "      <th>3</th>\n",
       "      <td>4</td>\n",
       "      <td>0</td>\n",
       "      <td>b</td>\n",
       "    </tr>\n",
       "    <tr>\n",
       "      <th>4</th>\n",
       "      <td>5</td>\n",
       "      <td>0</td>\n",
       "      <td>b</td>\n",
       "    </tr>\n",
       "  </tbody>\n",
       "</table>\n",
       "</div>"
      ],
      "text/plain": [
       "   user_id  revenue testgroup\n",
       "0        1        0         b\n",
       "1        2        0         a\n",
       "2        3        0         a\n",
       "3        4        0         b\n",
       "4        5        0         b"
      ]
     },
     "execution_count": 3,
     "metadata": {},
     "output_type": "execute_result"
    }
   ],
   "source": [
    "Download_URL_Dataset = url('https://disk.yandex.ru/d/SOkIsD5A8xlI7Q')\n",
    "DF = pd.read_csv(Download_URL_Dataset, sep=';')\n",
    "DF.head(5)"
   ]
  },
  {
   "cell_type": "markdown",
   "metadata": {},
   "source": [
    "# Проверим датасет на наличие пропусков и оценим его размер"
   ]
  },
  {
   "cell_type": "code",
   "execution_count": 4,
   "metadata": {},
   "outputs": [
    {
     "name": "stdout",
     "output_type": "stream",
     "text": [
      "Размер массива - (404770, 3) \n",
      " ----------------------------------------------------------------- \n",
      "Проверка пропусков (пропусков нет) - \n",
      " user_id      0\n",
      "revenue      0\n",
      "testgroup    0\n",
      "dtype: int64 \n",
      " -----------------------------------------------------------------\n"
     ]
    }
   ],
   "source": [
    "print(\n",
    "    'Размер массива -', DF.shape, '\\n', '-----------------------------------------------------------------',\n",
    "    '\\nПроверка пропусков (пропусков нет) - \\n', DF.isna().sum(), '\\n', '-----------------------------------------------------------------')"
   ]
  },
  {
   "cell_type": "markdown",
   "metadata": {},
   "source": [
    "# Анализ данных"
   ]
  },
  {
   "cell_type": "markdown",
   "metadata": {},
   "source": [
    "### Определим и проанализируем следующие показатели по двум группам А и В:\n",
    "   - Количество человек;\n",
    "   - Количество заплативших клиентов;\n",
    "   - Средний чек;\n",
    "   - Медианный чек;\n",
    "   - Суммарная выручка;\n",
    "   - ARPPU;\n",
    "   - ARPU;\n",
    "   - CR;"
   ]
  },
  {
   "cell_type": "code",
   "execution_count": 5,
   "metadata": {},
   "outputs": [
    {
     "data": {
      "text/html": [
       "<div>\n",
       "<style scoped>\n",
       "    .dataframe tbody tr th:only-of-type {\n",
       "        vertical-align: middle;\n",
       "    }\n",
       "\n",
       "    .dataframe tbody tr th {\n",
       "        vertical-align: top;\n",
       "    }\n",
       "\n",
       "    .dataframe thead th {\n",
       "        text-align: right;\n",
       "    }\n",
       "</style>\n",
       "<table border=\"1\" class=\"dataframe\">\n",
       "  <thead>\n",
       "    <tr style=\"text-align: right;\">\n",
       "      <th></th>\n",
       "      <th>testgroup</th>\n",
       "      <th>Number of Users</th>\n",
       "    </tr>\n",
       "  </thead>\n",
       "  <tbody>\n",
       "    <tr>\n",
       "      <th>0</th>\n",
       "      <td>a</td>\n",
       "      <td>202103</td>\n",
       "    </tr>\n",
       "    <tr>\n",
       "      <th>1</th>\n",
       "      <td>b</td>\n",
       "      <td>202667</td>\n",
       "    </tr>\n",
       "  </tbody>\n",
       "</table>\n",
       "</div>"
      ],
      "text/plain": [
       "  testgroup  Number of Users\n",
       "0         a           202103\n",
       "1         b           202667"
      ]
     },
     "execution_count": 5,
     "metadata": {},
     "output_type": "execute_result"
    }
   ],
   "source": [
    "# Определим количество человек по группам:\n",
    "Indicators = DF.groupby('testgroup')['user_id'].count().to_frame('Number of Users').reset_index()\n",
    "Indicators"
   ]
  },
  {
   "cell_type": "code",
   "execution_count": 6,
   "metadata": {},
   "outputs": [
    {
     "data": {
      "text/html": [
       "<div>\n",
       "<style scoped>\n",
       "    .dataframe tbody tr th:only-of-type {\n",
       "        vertical-align: middle;\n",
       "    }\n",
       "\n",
       "    .dataframe tbody tr th {\n",
       "        vertical-align: top;\n",
       "    }\n",
       "\n",
       "    .dataframe thead th {\n",
       "        text-align: right;\n",
       "    }\n",
       "</style>\n",
       "<table border=\"1\" class=\"dataframe\">\n",
       "  <thead>\n",
       "    <tr style=\"text-align: right;\">\n",
       "      <th></th>\n",
       "      <th>testgroup</th>\n",
       "      <th>Number of Users</th>\n",
       "      <th>Active_Users</th>\n",
       "    </tr>\n",
       "  </thead>\n",
       "  <tbody>\n",
       "    <tr>\n",
       "      <th>0</th>\n",
       "      <td>a</td>\n",
       "      <td>202103</td>\n",
       "      <td>1928</td>\n",
       "    </tr>\n",
       "    <tr>\n",
       "      <th>1</th>\n",
       "      <td>b</td>\n",
       "      <td>202667</td>\n",
       "      <td>1805</td>\n",
       "    </tr>\n",
       "  </tbody>\n",
       "</table>\n",
       "</div>"
      ],
      "text/plain": [
       "  testgroup  Number of Users  Active_Users\n",
       "0         a           202103          1928\n",
       "1         b           202667          1805"
      ]
     },
     "execution_count": 6,
     "metadata": {},
     "output_type": "execute_result"
    }
   ],
   "source": [
    "# Узнаем количество активных пользователей, кто совершал оплату - клиентов:\n",
    "Active_A = len(DF['user_id'].loc[(DF['revenue']>0) & (DF['testgroup']=='a')])\n",
    "Active_B = len(DF['user_id'].loc[(DF['revenue']>0) & (DF['testgroup']=='b')])\n",
    "Indicators['Active_Users'] = [Active_A, Active_B]\n",
    "Indicators"
   ]
  },
  {
   "cell_type": "code",
   "execution_count": 7,
   "metadata": {},
   "outputs": [
    {
     "data": {
      "text/html": [
       "<div>\n",
       "<style scoped>\n",
       "    .dataframe tbody tr th:only-of-type {\n",
       "        vertical-align: middle;\n",
       "    }\n",
       "\n",
       "    .dataframe tbody tr th {\n",
       "        vertical-align: top;\n",
       "    }\n",
       "\n",
       "    .dataframe thead th {\n",
       "        text-align: right;\n",
       "    }\n",
       "</style>\n",
       "<table border=\"1\" class=\"dataframe\">\n",
       "  <thead>\n",
       "    <tr style=\"text-align: right;\">\n",
       "      <th></th>\n",
       "      <th>testgroup</th>\n",
       "      <th>Number of Users</th>\n",
       "      <th>Active_Users</th>\n",
       "      <th>Total revenue</th>\n",
       "    </tr>\n",
       "  </thead>\n",
       "  <tbody>\n",
       "    <tr>\n",
       "      <th>0</th>\n",
       "      <td>a</td>\n",
       "      <td>202103</td>\n",
       "      <td>1928</td>\n",
       "      <td>5136189</td>\n",
       "    </tr>\n",
       "    <tr>\n",
       "      <th>1</th>\n",
       "      <td>b</td>\n",
       "      <td>202667</td>\n",
       "      <td>1805</td>\n",
       "      <td>5421603</td>\n",
       "    </tr>\n",
       "  </tbody>\n",
       "</table>\n",
       "</div>"
      ],
      "text/plain": [
       "  testgroup  Number of Users  Active_Users  Total revenue\n",
       "0         a           202103          1928        5136189\n",
       "1         b           202667          1805        5421603"
      ]
     },
     "execution_count": 7,
     "metadata": {},
     "output_type": "execute_result"
    }
   ],
   "source": [
    "# Далее вычислим суммарную и максимальную выручку по группам и добавим их в датафрейм с показателями.\n",
    "Indicators['Total revenue'] = DF.groupby('testgroup', as_index=False).agg({'revenue': 'sum'}).round(2)['revenue']\n",
    "Indicators"
   ]
  },
  {
   "cell_type": "code",
   "execution_count": 8,
   "metadata": {},
   "outputs": [
    {
     "data": {
      "text/html": [
       "<div>\n",
       "<style scoped>\n",
       "    .dataframe tbody tr th:only-of-type {\n",
       "        vertical-align: middle;\n",
       "    }\n",
       "\n",
       "    .dataframe tbody tr th {\n",
       "        vertical-align: top;\n",
       "    }\n",
       "\n",
       "    .dataframe thead th {\n",
       "        text-align: right;\n",
       "    }\n",
       "</style>\n",
       "<table border=\"1\" class=\"dataframe\">\n",
       "  <thead>\n",
       "    <tr style=\"text-align: right;\">\n",
       "      <th></th>\n",
       "      <th>testgroup</th>\n",
       "      <th>Number of Users</th>\n",
       "      <th>Active_Users</th>\n",
       "      <th>Total revenue</th>\n",
       "      <th>Avg_Check</th>\n",
       "    </tr>\n",
       "  </thead>\n",
       "  <tbody>\n",
       "    <tr>\n",
       "      <th>0</th>\n",
       "      <td>a</td>\n",
       "      <td>202103</td>\n",
       "      <td>1928</td>\n",
       "      <td>5136189</td>\n",
       "      <td>2664.00</td>\n",
       "    </tr>\n",
       "    <tr>\n",
       "      <th>1</th>\n",
       "      <td>b</td>\n",
       "      <td>202667</td>\n",
       "      <td>1805</td>\n",
       "      <td>5421603</td>\n",
       "      <td>3003.66</td>\n",
       "    </tr>\n",
       "  </tbody>\n",
       "</table>\n",
       "</div>"
      ],
      "text/plain": [
       "  testgroup  Number of Users  Active_Users  Total revenue  Avg_Check\n",
       "0         a           202103          1928        5136189    2664.00\n",
       "1         b           202667          1805        5421603    3003.66"
      ]
     },
     "execution_count": 8,
     "metadata": {},
     "output_type": "execute_result"
    }
   ],
   "source": [
    "# Средний чек:\n",
    "Avg_Check_A = DF['revenue'].loc[(DF['testgroup']=='a') & (DF['revenue']>0)].mean().round(2)\n",
    "Avg_Check_B = DF['revenue'].loc[(DF['testgroup']=='b') & (DF['revenue']>0)].mean().round(2)\n",
    "Indicators['Avg_Check'] = [Avg_Check_A, Avg_Check_B]\n",
    "Indicators"
   ]
  },
  {
   "cell_type": "code",
   "execution_count": 9,
   "metadata": {},
   "outputs": [
    {
     "data": {
      "text/html": [
       "<div>\n",
       "<style scoped>\n",
       "    .dataframe tbody tr th:only-of-type {\n",
       "        vertical-align: middle;\n",
       "    }\n",
       "\n",
       "    .dataframe tbody tr th {\n",
       "        vertical-align: top;\n",
       "    }\n",
       "\n",
       "    .dataframe thead th {\n",
       "        text-align: right;\n",
       "    }\n",
       "</style>\n",
       "<table border=\"1\" class=\"dataframe\">\n",
       "  <thead>\n",
       "    <tr style=\"text-align: right;\">\n",
       "      <th></th>\n",
       "      <th>testgroup</th>\n",
       "      <th>Number of Users</th>\n",
       "      <th>Active_Users</th>\n",
       "      <th>Total revenue</th>\n",
       "      <th>Avg_Check</th>\n",
       "      <th>Median_Check</th>\n",
       "    </tr>\n",
       "  </thead>\n",
       "  <tbody>\n",
       "    <tr>\n",
       "      <th>0</th>\n",
       "      <td>a</td>\n",
       "      <td>202103</td>\n",
       "      <td>1928</td>\n",
       "      <td>5136189</td>\n",
       "      <td>2664.00</td>\n",
       "      <td>311.0</td>\n",
       "    </tr>\n",
       "    <tr>\n",
       "      <th>1</th>\n",
       "      <td>b</td>\n",
       "      <td>202667</td>\n",
       "      <td>1805</td>\n",
       "      <td>5421603</td>\n",
       "      <td>3003.66</td>\n",
       "      <td>3022.0</td>\n",
       "    </tr>\n",
       "  </tbody>\n",
       "</table>\n",
       "</div>"
      ],
      "text/plain": [
       "  testgroup  Number of Users  Active_Users  Total revenue  Avg_Check  \\\n",
       "0         a           202103          1928        5136189    2664.00   \n",
       "1         b           202667          1805        5421603    3003.66   \n",
       "\n",
       "   Median_Check  \n",
       "0         311.0  \n",
       "1        3022.0  "
      ]
     },
     "execution_count": 9,
     "metadata": {},
     "output_type": "execute_result"
    }
   ],
   "source": [
    "# Медианный чек:\n",
    "Median_Check_A = DF['revenue'].loc[(DF['revenue']>0) & (DF['testgroup']=='a')].median()\n",
    "Median_Check_B = DF['revenue'].loc[(DF['revenue']>0) & (DF['testgroup']=='b')].median()\n",
    "Indicators['Median_Check'] = [Median_Check_A, Median_Check_B]\n",
    "Indicators"
   ]
  },
  {
   "cell_type": "code",
   "execution_count": 10,
   "metadata": {},
   "outputs": [
    {
     "data": {
      "text/html": [
       "<div>\n",
       "<style scoped>\n",
       "    .dataframe tbody tr th:only-of-type {\n",
       "        vertical-align: middle;\n",
       "    }\n",
       "\n",
       "    .dataframe tbody tr th {\n",
       "        vertical-align: top;\n",
       "    }\n",
       "\n",
       "    .dataframe thead th {\n",
       "        text-align: right;\n",
       "    }\n",
       "</style>\n",
       "<table border=\"1\" class=\"dataframe\">\n",
       "  <thead>\n",
       "    <tr style=\"text-align: right;\">\n",
       "      <th></th>\n",
       "      <th>testgroup</th>\n",
       "      <th>Number of Users</th>\n",
       "      <th>Active_Users</th>\n",
       "      <th>Total revenue</th>\n",
       "      <th>Avg_Check</th>\n",
       "      <th>Median_Check</th>\n",
       "      <th>Conversion</th>\n",
       "    </tr>\n",
       "  </thead>\n",
       "  <tbody>\n",
       "    <tr>\n",
       "      <th>0</th>\n",
       "      <td>a</td>\n",
       "      <td>202103</td>\n",
       "      <td>1928</td>\n",
       "      <td>5136189</td>\n",
       "      <td>2664.00</td>\n",
       "      <td>311.0</td>\n",
       "      <td>0.953969</td>\n",
       "    </tr>\n",
       "    <tr>\n",
       "      <th>1</th>\n",
       "      <td>b</td>\n",
       "      <td>202667</td>\n",
       "      <td>1805</td>\n",
       "      <td>5421603</td>\n",
       "      <td>3003.66</td>\n",
       "      <td>3022.0</td>\n",
       "      <td>0.890624</td>\n",
       "    </tr>\n",
       "  </tbody>\n",
       "</table>\n",
       "</div>"
      ],
      "text/plain": [
       "  testgroup  Number of Users  Active_Users  Total revenue  Avg_Check  \\\n",
       "0         a           202103          1928        5136189    2664.00   \n",
       "1         b           202667          1805        5421603    3003.66   \n",
       "\n",
       "   Median_Check  Conversion  \n",
       "0         311.0    0.953969  \n",
       "1        3022.0    0.890624  "
      ]
     },
     "execution_count": 10,
     "metadata": {},
     "output_type": "execute_result"
    }
   ],
   "source": [
    "# Далее определим конверсию пользователей в клиентов (кто заплатил):\n",
    "Indicators['Conversion'] = (Indicators['Active_Users'] / Indicators['Number of Users']) * 100\n",
    "Indicators"
   ]
  },
  {
   "cell_type": "code",
   "execution_count": 11,
   "metadata": {},
   "outputs": [
    {
     "data": {
      "text/html": [
       "<div>\n",
       "<style scoped>\n",
       "    .dataframe tbody tr th:only-of-type {\n",
       "        vertical-align: middle;\n",
       "    }\n",
       "\n",
       "    .dataframe tbody tr th {\n",
       "        vertical-align: top;\n",
       "    }\n",
       "\n",
       "    .dataframe thead th {\n",
       "        text-align: right;\n",
       "    }\n",
       "</style>\n",
       "<table border=\"1\" class=\"dataframe\">\n",
       "  <thead>\n",
       "    <tr style=\"text-align: right;\">\n",
       "      <th></th>\n",
       "      <th>testgroup</th>\n",
       "      <th>Number of Users</th>\n",
       "      <th>Active_Users</th>\n",
       "      <th>Total revenue</th>\n",
       "      <th>Avg_Check</th>\n",
       "      <th>Median_Check</th>\n",
       "      <th>Conversion</th>\n",
       "      <th>ARPPU</th>\n",
       "    </tr>\n",
       "  </thead>\n",
       "  <tbody>\n",
       "    <tr>\n",
       "      <th>0</th>\n",
       "      <td>a</td>\n",
       "      <td>202103</td>\n",
       "      <td>1928</td>\n",
       "      <td>5136189</td>\n",
       "      <td>2664.00</td>\n",
       "      <td>311.0</td>\n",
       "      <td>0.953969</td>\n",
       "      <td>2663.998444</td>\n",
       "    </tr>\n",
       "    <tr>\n",
       "      <th>1</th>\n",
       "      <td>b</td>\n",
       "      <td>202667</td>\n",
       "      <td>1805</td>\n",
       "      <td>5421603</td>\n",
       "      <td>3003.66</td>\n",
       "      <td>3022.0</td>\n",
       "      <td>0.890624</td>\n",
       "      <td>3003.658172</td>\n",
       "    </tr>\n",
       "  </tbody>\n",
       "</table>\n",
       "</div>"
      ],
      "text/plain": [
       "  testgroup  Number of Users  Active_Users  Total revenue  Avg_Check  \\\n",
       "0         a           202103          1928        5136189    2664.00   \n",
       "1         b           202667          1805        5421603    3003.66   \n",
       "\n",
       "   Median_Check  Conversion        ARPPU  \n",
       "0         311.0    0.953969  2663.998444  \n",
       "1        3022.0    0.890624  3003.658172  "
      ]
     },
     "execution_count": 11,
     "metadata": {},
     "output_type": "execute_result"
    }
   ],
   "source": [
    "# Рассчитаем ARPPU - средний доход на платящего пользователя:\n",
    "ARPPU_A = DF['revenue'].loc[(DF['revenue']>0) & (DF['testgroup']=='a')].sum() / DF['revenue'].loc[(DF['revenue']>0) & (DF['testgroup']=='a')].count()\n",
    "ARPPU_B = DF['revenue'].loc[(DF['revenue']>0) & (DF['testgroup']=='b')].sum() / DF['revenue'].loc[(DF['revenue']>0) & (DF['testgroup']=='b')].count()\n",
    "Indicators['ARPPU'] = [ARPPU_A, ARPPU_B]\n",
    "Indicators"
   ]
  },
  {
   "cell_type": "code",
   "execution_count": 12,
   "metadata": {},
   "outputs": [
    {
     "data": {
      "text/html": [
       "<div>\n",
       "<style scoped>\n",
       "    .dataframe tbody tr th:only-of-type {\n",
       "        vertical-align: middle;\n",
       "    }\n",
       "\n",
       "    .dataframe tbody tr th {\n",
       "        vertical-align: top;\n",
       "    }\n",
       "\n",
       "    .dataframe thead th {\n",
       "        text-align: right;\n",
       "    }\n",
       "</style>\n",
       "<table border=\"1\" class=\"dataframe\">\n",
       "  <thead>\n",
       "    <tr style=\"text-align: right;\">\n",
       "      <th></th>\n",
       "      <th>testgroup</th>\n",
       "      <th>Number of Users</th>\n",
       "      <th>Active_Users</th>\n",
       "      <th>Total revenue</th>\n",
       "      <th>Avg_Check</th>\n",
       "      <th>Median_Check</th>\n",
       "      <th>Conversion</th>\n",
       "      <th>ARPPU</th>\n",
       "      <th>ARPU</th>\n",
       "    </tr>\n",
       "  </thead>\n",
       "  <tbody>\n",
       "    <tr>\n",
       "      <th>0</th>\n",
       "      <td>a</td>\n",
       "      <td>202103</td>\n",
       "      <td>1928</td>\n",
       "      <td>5136189</td>\n",
       "      <td>2664.00</td>\n",
       "      <td>311.0</td>\n",
       "      <td>0.953969</td>\n",
       "      <td>2663.998444</td>\n",
       "      <td>25.413720</td>\n",
       "    </tr>\n",
       "    <tr>\n",
       "      <th>1</th>\n",
       "      <td>b</td>\n",
       "      <td>202667</td>\n",
       "      <td>1805</td>\n",
       "      <td>5421603</td>\n",
       "      <td>3003.66</td>\n",
       "      <td>3022.0</td>\n",
       "      <td>0.890624</td>\n",
       "      <td>3003.658172</td>\n",
       "      <td>26.751287</td>\n",
       "    </tr>\n",
       "  </tbody>\n",
       "</table>\n",
       "</div>"
      ],
      "text/plain": [
       "  testgroup  Number of Users  Active_Users  Total revenue  Avg_Check  \\\n",
       "0         a           202103          1928        5136189    2664.00   \n",
       "1         b           202667          1805        5421603    3003.66   \n",
       "\n",
       "   Median_Check  Conversion        ARPPU       ARPU  \n",
       "0         311.0    0.953969  2663.998444  25.413720  \n",
       "1        3022.0    0.890624  3003.658172  26.751287  "
      ]
     },
     "execution_count": 12,
     "metadata": {},
     "output_type": "execute_result"
    }
   ],
   "source": [
    "# Рассчитаем ARPU - средний доход на пользователя:\n",
    "Indicators['ARPU'] = Indicators['ARPPU'] * (Indicators['Conversion'] / 100)\n",
    "Indicators"
   ]
  },
  {
   "cell_type": "markdown",
   "metadata": {},
   "source": [
    "### Выводы"
   ]
  },
  {
   "cell_type": "markdown",
   "metadata": {},
   "source": [
    "- Количество активных пользователей в группе В меньше чем в А, однако остальные метрики, кроме конверсии, превосходят группу А.\n",
    "- Наблюдается сильная разница в медианах, но в средних это расхождение существенно меньше."
   ]
  },
  {
   "cell_type": "code",
   "execution_count": 13,
   "metadata": {},
   "outputs": [
    {
     "data": {
      "image/png": "[encoded data removed]",
      "text/plain": [
       "<Figure size 720x288 with 2 Axes>"
      ]
     },
     "metadata": {
      "needs_background": "light"
     },
     "output_type": "display_data"
    }
   ],
   "source": [
    "# Построим графики boxplot, для того, чтобы сравнить две выборки между собой и проверить их на наличие выбросов.\n",
    "\n",
    "fig, axs = plt.subplots(1, 2, figsize=(10, 4))\n",
    "\n",
    "data_A = DF['revenue'].loc[(DF['testgroup']=='a') & (DF['revenue']>0)]\n",
    "data_B = DF['revenue'].loc[(DF['testgroup']=='b') & (DF['revenue']>0)]\n",
    "\n",
    "axs[0].set(ylabel='Покупки')\n",
    "axs[0].boxplot(data_A)\n",
    "axs[0].set_title('Box-plot группа А')\n",
    "\n",
    "axs[1].boxplot(data_B)\n",
    "axs[1].set_title('Box-plot группа B');"
   ]
  },
  {
   "cell_type": "markdown",
   "metadata": {},
   "source": [
    "- В группе А видны сильные отклонения от медианного значения.\n",
    "- У группы В выбросов нет и демонстрируется распределение стоимостей покупок от 2000 до 4000 рублей."
   ]
  },
  {
   "cell_type": "code",
   "execution_count": 14,
   "metadata": {},
   "outputs": [
    {
     "name": "stdout",
     "output_type": "stream",
     "text": [
      "Количество людей:  123\n",
      "Средний чек:  37319.12\n",
      "Медианный чек:  37311.0\n"
     ]
    }
   ],
   "source": [
    "# Посмотрим, как много человек из группы А сделало покупку стоимостью более чем на 5000 рублей.\n",
    "Num_Jump = DF['revenue'].loc[(DF['testgroup']=='a') & (DF['revenue']>5000)]\n",
    "print('Количество людей: ', len(Num_Jump))\n",
    "print('Средний чек: ', Num_Jump.mean().round(2))\n",
    "print('Медианный чек: ', Num_Jump.median())"
   ]
  },
  {
   "cell_type": "markdown",
   "metadata": {},
   "source": [
    "### Анализ конверсии"
   ]
  },
  {
   "cell_type": "code",
   "execution_count": 15,
   "metadata": {},
   "outputs": [
    {
     "data": {
      "text/html": [
       "<div>\n",
       "<style scoped>\n",
       "    .dataframe tbody tr th:only-of-type {\n",
       "        vertical-align: middle;\n",
       "    }\n",
       "\n",
       "    .dataframe tbody tr th {\n",
       "        vertical-align: top;\n",
       "    }\n",
       "\n",
       "    .dataframe thead th {\n",
       "        text-align: right;\n",
       "    }\n",
       "</style>\n",
       "<table border=\"1\" class=\"dataframe\">\n",
       "  <thead>\n",
       "    <tr style=\"text-align: right;\">\n",
       "      <th></th>\n",
       "      <th>testgroup</th>\n",
       "      <th>Conversion</th>\n",
       "    </tr>\n",
       "  </thead>\n",
       "  <tbody>\n",
       "    <tr>\n",
       "      <th>0</th>\n",
       "      <td>a</td>\n",
       "      <td>0.953969</td>\n",
       "    </tr>\n",
       "    <tr>\n",
       "      <th>1</th>\n",
       "      <td>b</td>\n",
       "      <td>0.890624</td>\n",
       "    </tr>\n",
       "  </tbody>\n",
       "</table>\n",
       "</div>"
      ],
      "text/plain": [
       "  testgroup  Conversion\n",
       "0         a    0.953969\n",
       "1         b    0.890624"
      ]
     },
     "execution_count": 15,
     "metadata": {},
     "output_type": "execute_result"
    }
   ],
   "source": [
    "# Конверсия в группе В немного ниже чем в А. Увеличение конверсии существенно увеличит общую выручку.\n",
    "Indicators[['testgroup', 'Conversion']]"
   ]
  },
  {
   "cell_type": "markdown",
   "metadata": {},
   "source": [
    "#### Проведем анализ конверсии.\n",
    "#### Его можно провести при помощи критерия Хи-Квадрат.\n",
    "Критерий Хи-квадрат является статистическим методом, который позволяет определить, являются ли различия между наблюдаемыми и ожидаемыми частотами в таблице сопряженности статистически значимыми.\\\n",
    "Проведем анализ, чтобы определить, существуют ли различия между двумя группами в том, были ли оплаты совершены или нет.  Т.к. наши переменные являются категориальными (группы \"А\" и \"В\" и наличие оплаты \"есть оплата\" и \"нет оплаты\"), используем критерий Хи-квадрат и создадим таблицу сопряженности для анализа."
   ]
  },
  {
   "cell_type": "code",
   "execution_count": 16,
   "metadata": {},
   "outputs": [],
   "source": [
    "# Для этого создадим новый столбец с данными: совершил оплату и не совершил.\n",
    "Pay = []\n",
    "for i in range(0, DF.shape[0]):\n",
    "    if DF['revenue'][i] == 0:\n",
    "        Pay.append('no')\n",
    "    elif DF['revenue'][i] != 0:\n",
    "        Pay.append('yes')\n",
    "DF['Pay'] = Pay"
   ]
  },
  {
   "cell_type": "code",
   "execution_count": 17,
   "metadata": {},
   "outputs": [
    {
     "data": {
      "text/html": [
       "<div>\n",
       "<style scoped>\n",
       "    .dataframe tbody tr th:only-of-type {\n",
       "        vertical-align: middle;\n",
       "    }\n",
       "\n",
       "    .dataframe tbody tr th {\n",
       "        vertical-align: top;\n",
       "    }\n",
       "\n",
       "    .dataframe thead th {\n",
       "        text-align: right;\n",
       "    }\n",
       "</style>\n",
       "<table border=\"1\" class=\"dataframe\">\n",
       "  <thead>\n",
       "    <tr style=\"text-align: right;\">\n",
       "      <th></th>\n",
       "      <th>testgroup</th>\n",
       "      <th>Pay</th>\n",
       "      <th>count</th>\n",
       "    </tr>\n",
       "  </thead>\n",
       "  <tbody>\n",
       "    <tr>\n",
       "      <th>0</th>\n",
       "      <td>a</td>\n",
       "      <td>no</td>\n",
       "      <td>200175</td>\n",
       "    </tr>\n",
       "    <tr>\n",
       "      <th>1</th>\n",
       "      <td>a</td>\n",
       "      <td>yes</td>\n",
       "      <td>1928</td>\n",
       "    </tr>\n",
       "    <tr>\n",
       "      <th>2</th>\n",
       "      <td>b</td>\n",
       "      <td>no</td>\n",
       "      <td>200862</td>\n",
       "    </tr>\n",
       "    <tr>\n",
       "      <th>3</th>\n",
       "      <td>b</td>\n",
       "      <td>yes</td>\n",
       "      <td>1805</td>\n",
       "    </tr>\n",
       "  </tbody>\n",
       "</table>\n",
       "</div>"
      ],
      "text/plain": [
       "  testgroup  Pay   count\n",
       "0         a   no  200175\n",
       "1         a  yes    1928\n",
       "2         b   no  200862\n",
       "3         b  yes    1805"
      ]
     },
     "execution_count": 17,
     "metadata": {},
     "output_type": "execute_result"
    }
   ],
   "source": [
    "# Cоздадим таблицу сопряженности по группам и наличию оплаты:\n",
    "table = DF.groupby(['testgroup', 'Pay']).agg({'Pay': 'count'}).rename(columns={'Pay': 'count'}).reset_index()\n",
    "table"
   ]
  },
  {
   "cell_type": "code",
   "execution_count": 18,
   "metadata": {},
   "outputs": [
    {
     "data": {
      "text/html": [
       "<div>\n",
       "<style scoped>\n",
       "    .dataframe tbody tr th:only-of-type {\n",
       "        vertical-align: middle;\n",
       "    }\n",
       "\n",
       "    .dataframe tbody tr th {\n",
       "        vertical-align: top;\n",
       "    }\n",
       "\n",
       "    .dataframe thead th {\n",
       "        text-align: right;\n",
       "    }\n",
       "</style>\n",
       "<table border=\"1\" class=\"dataframe\">\n",
       "  <thead>\n",
       "    <tr style=\"text-align: right;\">\n",
       "      <th>Pay</th>\n",
       "      <th>no</th>\n",
       "      <th>yes</th>\n",
       "    </tr>\n",
       "    <tr>\n",
       "      <th>testgroup</th>\n",
       "      <th></th>\n",
       "      <th></th>\n",
       "    </tr>\n",
       "  </thead>\n",
       "  <tbody>\n",
       "    <tr>\n",
       "      <th>a</th>\n",
       "      <td>200175</td>\n",
       "      <td>1928</td>\n",
       "    </tr>\n",
       "    <tr>\n",
       "      <th>b</th>\n",
       "      <td>200862</td>\n",
       "      <td>1805</td>\n",
       "    </tr>\n",
       "  </tbody>\n",
       "</table>\n",
       "</div>"
      ],
      "text/plain": [
       "Pay            no   yes\n",
       "testgroup              \n",
       "a          200175  1928\n",
       "b          200862  1805"
      ]
     },
     "execution_count": 18,
     "metadata": {},
     "output_type": "execute_result"
    }
   ],
   "source": [
    "# Итоговая таблица сопряжённости\n",
    "table = table.pivot(index='testgroup', columns='Pay', values='count')\n",
    "table"
   ]
  },
  {
   "cell_type": "code",
   "execution_count": 19,
   "metadata": {},
   "outputs": [
    {
     "name": "stdout",
     "output_type": "stream",
     "text": [
      "Хи-квадрат: 4.374729521260405\n",
      "p-value: 0.03647561892312613\n",
      "Количество степеней свободы: 1\n"
     ]
    }
   ],
   "source": [
    "# Применяем критерий Хи-квадрат к полученной таблице\n",
    "stat, p, dof, expected = chi2_contingency(table)\n",
    "print(f\"Хи-квадрат: {stat}\\np-value: {p}\\nКоличество степеней свободы: {dof}\")"
   ]
  },
  {
   "cell_type": "markdown",
   "metadata": {},
   "source": [
    "#### Проводим проверку гипотезы с использованием полученных результатов:\n",
    "- H0 (нулевая гипотеза): Связь между конверсией и групповой принадлежностью отсутствует;\n",
    "- H1 (альтернативная гипотеза): Взаимосвязь между группой и конверсией, все-таки, имеется."
   ]
  },
  {
   "cell_type": "code",
   "execution_count": 20,
   "metadata": {},
   "outputs": [
    {
     "name": "stdout",
     "output_type": "stream",
     "text": [
      "Отклоняем H0, Хи-квадрат = 4.374729521260405 \n",
      " Можно сказать, что набор акционных предложений для группы B оказал влияние на желание пользователей совершать покупки.\n"
     ]
    }
   ],
   "source": [
    "prob = 0.95\n",
    "critical = chi2.ppf(prob, dof)\n",
    "if abs(stat) >= critical:\n",
    "    print('Отклоняем H0, Хи-квадрат =', abs(stat), '\\n', \\\n",
    "           'Можно сказать, что набор акционных предложений для группы B оказал влияние на желание пользователей совершать покупки.')\n",
    "else:\n",
    "    print('Не отклоняем H0, Хи-квадрат =', abs(stat))"
   ]
  },
  {
   "cell_type": "markdown",
   "metadata": {},
   "source": [
    "#### Проведем анализ конверсии с отсеченными выбросами"
   ]
  },
  {
   "cell_type": "code",
   "execution_count": 21,
   "metadata": {},
   "outputs": [
    {
     "data": {
      "text/html": [
       "<div>\n",
       "<style scoped>\n",
       "    .dataframe tbody tr th:only-of-type {\n",
       "        vertical-align: middle;\n",
       "    }\n",
       "\n",
       "    .dataframe tbody tr th {\n",
       "        vertical-align: top;\n",
       "    }\n",
       "\n",
       "    .dataframe thead th {\n",
       "        text-align: right;\n",
       "    }\n",
       "</style>\n",
       "<table border=\"1\" class=\"dataframe\">\n",
       "  <thead>\n",
       "    <tr style=\"text-align: right;\">\n",
       "      <th></th>\n",
       "      <th>user_id</th>\n",
       "      <th>revenue</th>\n",
       "      <th>testgroup</th>\n",
       "      <th>Pay</th>\n",
       "    </tr>\n",
       "  </thead>\n",
       "  <tbody>\n",
       "    <tr>\n",
       "      <th>0</th>\n",
       "      <td>1</td>\n",
       "      <td>0</td>\n",
       "      <td>b</td>\n",
       "      <td>no</td>\n",
       "    </tr>\n",
       "    <tr>\n",
       "      <th>1</th>\n",
       "      <td>2</td>\n",
       "      <td>0</td>\n",
       "      <td>a</td>\n",
       "      <td>no</td>\n",
       "    </tr>\n",
       "    <tr>\n",
       "      <th>2</th>\n",
       "      <td>3</td>\n",
       "      <td>0</td>\n",
       "      <td>a</td>\n",
       "      <td>no</td>\n",
       "    </tr>\n",
       "    <tr>\n",
       "      <th>3</th>\n",
       "      <td>4</td>\n",
       "      <td>0</td>\n",
       "      <td>b</td>\n",
       "      <td>no</td>\n",
       "    </tr>\n",
       "    <tr>\n",
       "      <th>4</th>\n",
       "      <td>5</td>\n",
       "      <td>0</td>\n",
       "      <td>b</td>\n",
       "      <td>no</td>\n",
       "    </tr>\n",
       "    <tr>\n",
       "      <th>...</th>\n",
       "      <td>...</td>\n",
       "      <td>...</td>\n",
       "      <td>...</td>\n",
       "      <td>...</td>\n",
       "    </tr>\n",
       "    <tr>\n",
       "      <th>404765</th>\n",
       "      <td>404766</td>\n",
       "      <td>0</td>\n",
       "      <td>a</td>\n",
       "      <td>no</td>\n",
       "    </tr>\n",
       "    <tr>\n",
       "      <th>404766</th>\n",
       "      <td>404767</td>\n",
       "      <td>0</td>\n",
       "      <td>b</td>\n",
       "      <td>no</td>\n",
       "    </tr>\n",
       "    <tr>\n",
       "      <th>404767</th>\n",
       "      <td>404768</td>\n",
       "      <td>231</td>\n",
       "      <td>a</td>\n",
       "      <td>yes</td>\n",
       "    </tr>\n",
       "    <tr>\n",
       "      <th>404768</th>\n",
       "      <td>404769</td>\n",
       "      <td>0</td>\n",
       "      <td>a</td>\n",
       "      <td>no</td>\n",
       "    </tr>\n",
       "    <tr>\n",
       "      <th>404769</th>\n",
       "      <td>404770</td>\n",
       "      <td>0</td>\n",
       "      <td>b</td>\n",
       "      <td>no</td>\n",
       "    </tr>\n",
       "  </tbody>\n",
       "</table>\n",
       "<p>404647 rows × 4 columns</p>\n",
       "</div>"
      ],
      "text/plain": [
       "        user_id  revenue testgroup  Pay\n",
       "0             1        0         b   no\n",
       "1             2        0         a   no\n",
       "2             3        0         a   no\n",
       "3             4        0         b   no\n",
       "4             5        0         b   no\n",
       "...         ...      ...       ...  ...\n",
       "404765   404766        0         a   no\n",
       "404766   404767        0         b   no\n",
       "404767   404768      231         a  yes\n",
       "404768   404769        0         a   no\n",
       "404769   404770        0         b   no\n",
       "\n",
       "[404647 rows x 4 columns]"
      ]
     },
     "execution_count": 21,
     "metadata": {},
     "output_type": "execute_result"
    }
   ],
   "source": [
    "df_clean = DF.loc[DF['revenue'] < 5000]\n",
    "df_clean"
   ]
  },
  {
   "cell_type": "code",
   "execution_count": 22,
   "metadata": {},
   "outputs": [
    {
     "data": {
      "text/html": [
       "<div>\n",
       "<style scoped>\n",
       "    .dataframe tbody tr th:only-of-type {\n",
       "        vertical-align: middle;\n",
       "    }\n",
       "\n",
       "    .dataframe tbody tr th {\n",
       "        vertical-align: top;\n",
       "    }\n",
       "\n",
       "    .dataframe thead th {\n",
       "        text-align: right;\n",
       "    }\n",
       "</style>\n",
       "<table border=\"1\" class=\"dataframe\">\n",
       "  <thead>\n",
       "    <tr style=\"text-align: right;\">\n",
       "      <th></th>\n",
       "      <th>testgroup</th>\n",
       "      <th>Pay</th>\n",
       "      <th>count</th>\n",
       "    </tr>\n",
       "  </thead>\n",
       "  <tbody>\n",
       "    <tr>\n",
       "      <th>0</th>\n",
       "      <td>a</td>\n",
       "      <td>no</td>\n",
       "      <td>200175</td>\n",
       "    </tr>\n",
       "    <tr>\n",
       "      <th>1</th>\n",
       "      <td>a</td>\n",
       "      <td>yes</td>\n",
       "      <td>1805</td>\n",
       "    </tr>\n",
       "    <tr>\n",
       "      <th>2</th>\n",
       "      <td>b</td>\n",
       "      <td>no</td>\n",
       "      <td>200862</td>\n",
       "    </tr>\n",
       "    <tr>\n",
       "      <th>3</th>\n",
       "      <td>b</td>\n",
       "      <td>yes</td>\n",
       "      <td>1805</td>\n",
       "    </tr>\n",
       "  </tbody>\n",
       "</table>\n",
       "</div>"
      ],
      "text/plain": [
       "  testgroup  Pay   count\n",
       "0         a   no  200175\n",
       "1         a  yes    1805\n",
       "2         b   no  200862\n",
       "3         b  yes    1805"
      ]
     },
     "execution_count": 22,
     "metadata": {},
     "output_type": "execute_result"
    }
   ],
   "source": [
    "table_clean = df_clean.groupby(['testgroup', 'Pay']).agg({'Pay': 'count'}).rename(columns={'Pay': 'count'}).reset_index()\n",
    "table_clean"
   ]
  },
  {
   "cell_type": "code",
   "execution_count": 23,
   "metadata": {},
   "outputs": [
    {
     "data": {
      "text/html": [
       "<div>\n",
       "<style scoped>\n",
       "    .dataframe tbody tr th:only-of-type {\n",
       "        vertical-align: middle;\n",
       "    }\n",
       "\n",
       "    .dataframe tbody tr th {\n",
       "        vertical-align: top;\n",
       "    }\n",
       "\n",
       "    .dataframe thead th {\n",
       "        text-align: right;\n",
       "    }\n",
       "</style>\n",
       "<table border=\"1\" class=\"dataframe\">\n",
       "  <thead>\n",
       "    <tr style=\"text-align: right;\">\n",
       "      <th>Pay</th>\n",
       "      <th>no</th>\n",
       "      <th>yes</th>\n",
       "    </tr>\n",
       "    <tr>\n",
       "      <th>testgroup</th>\n",
       "      <th></th>\n",
       "      <th></th>\n",
       "    </tr>\n",
       "  </thead>\n",
       "  <tbody>\n",
       "    <tr>\n",
       "      <th>a</th>\n",
       "      <td>200175</td>\n",
       "      <td>1805</td>\n",
       "    </tr>\n",
       "    <tr>\n",
       "      <th>b</th>\n",
       "      <td>200862</td>\n",
       "      <td>1805</td>\n",
       "    </tr>\n",
       "  </tbody>\n",
       "</table>\n",
       "</div>"
      ],
      "text/plain": [
       "Pay            no   yes\n",
       "testgroup              \n",
       "a          200175  1805\n",
       "b          200862  1805"
      ]
     },
     "execution_count": 23,
     "metadata": {},
     "output_type": "execute_result"
    }
   ],
   "source": [
    "table_clean = table_clean.pivot(index='testgroup', columns='Pay', values='count')\n",
    "table_clean"
   ]
  },
  {
   "cell_type": "code",
   "execution_count": 24,
   "metadata": {},
   "outputs": [
    {
     "name": "stdout",
     "output_type": "stream",
     "text": [
      "Хи-квадрат: 0.0073526946879701\n",
      "p-value: 0.9316668591658103\n",
      "Количество степеней свободы: 1\n"
     ]
    }
   ],
   "source": [
    "stat, p, dof, expected = chi2_contingency(table_clean)\n",
    "print(f\"Хи-квадрат: {stat}\\np-value: {p}\\nКоличество степеней свободы: {dof}\")"
   ]
  },
  {
   "cell_type": "markdown",
   "metadata": {},
   "source": [
    "#### Проводим проверку гипотезы с использованием полученных результатов:\n",
    "- H0 (нулевая гипотеза): Связь между конверсией и групповой принадлежностью отсутствует;\n",
    "- H1 (альтернативная гипотеза): Взаимосвязь между группой и конверсией, все-таки, имеется."
   ]
  },
  {
   "cell_type": "code",
   "execution_count": 25,
   "metadata": {},
   "outputs": [
    {
     "name": "stdout",
     "output_type": "stream",
     "text": [
      "Не отклоняем H0, Хи-квадрат = 0.0073526946879701\n"
     ]
    }
   ],
   "source": [
    "prob = 0.95\n",
    "critical = chi2.ppf(prob, dof)\n",
    "if abs(stat) >= critical:\n",
    "    print('Отклоняем H0, Хи-квадрат =', abs(stat), '\\n', \\\n",
    "           'Можно сказать, что набор акционных предложений для группы B оказал влияние на желание пользователей совершать покупки.')\n",
    "else:\n",
    "    print('Не отклоняем H0, Хи-квадрат =', abs(stat))"
   ]
  },
  {
   "cell_type": "markdown",
   "metadata": {},
   "source": [
    "### Анализ ARPU"
   ]
  },
  {
   "cell_type": "markdown",
   "metadata": {},
   "source": [
    "#### Тестовая группа действительно превосходит контрольную группу по показателю ARPU на 5%\n",
    "#### Необходимо понять, есть ли статистически значимое различие ARPU двух групп."
   ]
  },
  {
   "cell_type": "code",
   "execution_count": 26,
   "metadata": {},
   "outputs": [
    {
     "data": {
      "text/html": [
       "<div>\n",
       "<style scoped>\n",
       "    .dataframe tbody tr th:only-of-type {\n",
       "        vertical-align: middle;\n",
       "    }\n",
       "\n",
       "    .dataframe tbody tr th {\n",
       "        vertical-align: top;\n",
       "    }\n",
       "\n",
       "    .dataframe thead th {\n",
       "        text-align: right;\n",
       "    }\n",
       "</style>\n",
       "<table border=\"1\" class=\"dataframe\">\n",
       "  <thead>\n",
       "    <tr style=\"text-align: right;\">\n",
       "      <th></th>\n",
       "      <th>testgroup</th>\n",
       "      <th>ARPU</th>\n",
       "    </tr>\n",
       "  </thead>\n",
       "  <tbody>\n",
       "    <tr>\n",
       "      <th>0</th>\n",
       "      <td>a</td>\n",
       "      <td>25.413720</td>\n",
       "    </tr>\n",
       "    <tr>\n",
       "      <th>1</th>\n",
       "      <td>b</td>\n",
       "      <td>26.751287</td>\n",
       "    </tr>\n",
       "  </tbody>\n",
       "</table>\n",
       "</div>"
      ],
      "text/plain": [
       "  testgroup       ARPU\n",
       "0         a  25.413720\n",
       "1         b  26.751287"
      ]
     },
     "execution_count": 26,
     "metadata": {},
     "output_type": "execute_result"
    }
   ],
   "source": [
    "Indicators[['testgroup', 'ARPU']]"
   ]
  },
  {
   "cell_type": "markdown",
   "metadata": {},
   "source": [
    "#### Проверим данные на нормальность распределения\n",
    "1. С помошью гистограммы\n",
    "2. С помошью теста Шапиро-Уилка"
   ]
  },
  {
   "cell_type": "code",
   "execution_count": 27,
   "metadata": {},
   "outputs": [
    {
     "data": {
      "text/plain": [
       "(array([180., 172., 161., 201., 169., 188., 188., 208., 162., 176.]),\n",
       " array([2000., 2200., 2400., 2600., 2800., 3000., 3200., 3400., 3600.,\n",
       "        3800., 4000.]),\n",
       " <a list of 10 Patch objects>)"
      ]
     },
     "execution_count": 27,
     "metadata": {},
     "output_type": "execute_result"
    },
    {
     "data": {
      "image/png": "[encoded data removed]",
      "text/plain": [
       "<Figure size 720x288 with 2 Axes>"
      ]
     },
     "metadata": {
      "needs_background": "light"
     },
     "output_type": "display_data"
    }
   ],
   "source": [
    "fig, axs = plt.subplots(1, 2, figsize=(10, 4))\n",
    "axs[0].hist(DF['revenue'].loc[(DF['testgroup']=='a') & (DF['revenue']>0)])\n",
    "axs[1].hist(DF['revenue'].loc[(DF['testgroup']=='b') & (DF['revenue']>0)])"
   ]
  },
  {
   "cell_type": "markdown",
   "metadata": {},
   "source": [
    "Глядя на гистограммы мы можем сказать что наборы данных не имеют формы \"колокола\" следовательно - не имеют нормального распределения"
   ]
  },
  {
   "cell_type": "code",
   "execution_count": 28,
   "metadata": {},
   "outputs": [
    {
     "name": "stdout",
     "output_type": "stream",
     "text": [
      "ShapiroResult(statistic=0.2667924761772156, pvalue=0.0)\n",
      "ShapiroResult(statistic=0.9583123922348022, pvalue=2.491345674771425e-22)\n"
     ]
    }
   ],
   "source": [
    "print(stats.shapiro(DF['revenue'].loc[(DF['testgroup']=='a') & (DF['revenue']>0)]))\n",
    "print(stats.shapiro(DF['revenue'].loc[(DF['testgroup']=='b') & (DF['revenue']>0)]))"
   ]
  },
  {
   "cell_type": "markdown",
   "metadata": {},
   "source": [
    "Т.к. pvalue теста Шапиро-Уилка << 0.05 - следовательно мы имеем дело с ненормальным распределением."
   ]
  },
  {
   "cell_type": "markdown",
   "metadata": {},
   "source": [
    "#### Cравним выборки методом bootstrap.\n",
    "У нас есть категориальная переменная (группа \"А\" или \"В\"), у нас также имеется количественная переменная - сумма оплаты.\\\n",
    "Проанализируем, как категориальный фактор (группа) влияет на метрику ARPPU (средний доход с одного платящего пользователя) и ARPU (Средний доход с одного пользователя).\\\n",
    "Так как наши распределения выборок не являются нормальными, можно использовать бутстреп анализ, так как он позволяет получить оценки и доверительные интервалы для статистических параметров (например, средних) без предположений о нормальности распределении данных. В нашем случае, это может быть использовано для оценки неопределенности в связи с метриками ARPPU и ARPU."
   ]
  },
  {
   "cell_type": "code",
   "execution_count": 29,
   "metadata": {},
   "outputs": [],
   "source": [
    "# Сравним с помощью данной функции средние значения между группами:\n",
    "def get_bootstrap_mean( #\n",
    "    data_column_1,\n",
    "    data_column_2,\n",
    "    boot_it=1000, # количество бутстреп-подвыборок для создания (1000 выборок)\n",
    "    statistic=np.mean, # статистика, которую мы хотим оценить (np.mean - среднее значение)\n",
    "    bootstrap_conf_level=0.95 # уровень значимости \n",
    "):\n",
    "    boot_data = []\n",
    "    for i in range(boot_it): # генерация бутстреп-подвыборок\n",
    "        samples_1 = data_column_1.sample(\n",
    "            len(data_column_1), \n",
    "            replace=True\n",
    "        ).values\n",
    "        \n",
    "        samples_2 = data_column_2.sample(\n",
    "            len(data_column_1), \n",
    "            replace=True\n",
    "        ).values\n",
    "        \n",
    "        boot_data.append(statistic(samples_1) - statistic(samples_2)) # список, в который записывается разница между \n",
    "        # значениями статистики для бутстреп-подвыборок групп A и B\n",
    "        \n",
    "    pd_boot_data = pd.DataFrame(boot_data)\n",
    "        \n",
    "    left_quant = (1 - bootstrap_conf_level) / 2\n",
    "    right_quant = 1 - (1 - bootstrap_conf_level) / 2\n",
    "    quants = pd_boot_data.quantile([left_quant, right_quant])\n",
    "        \n",
    "    p_1 = norm.cdf(\n",
    "        x=0, \n",
    "        loc=np.mean(boot_data), \n",
    "        scale=np.std(boot_data)\n",
    "    )\n",
    "    p_2 = norm.cdf(\n",
    "        x=0, \n",
    "        loc=-np.mean(boot_data), \n",
    "        scale=np.std(boot_data)\n",
    "    )\n",
    "    p_value = min(p_1, p_2) * 2\n",
    "        \n",
    "    # Построение графика\n",
    "    _, _, bars = plt.hist(pd_boot_data[0], bins=50)\n",
    "    for bar in bars:\n",
    "        if bar.get_x() <= quants.iloc[0][0] or bar.get_x() >= quants.iloc[1][0]:\n",
    "            bar.set_facecolor('red')\n",
    "        else: \n",
    "            bar.set_facecolor('grey')\n",
    "            bar.set_edgecolor('black')\n",
    "    \n",
    "    plt.style.use('ggplot')\n",
    "    plt.vlines(quants, ymin=0, ymax=50, linestyle='--')\n",
    "    plt.xlabel('boot_data')\n",
    "    plt.ylabel('frequency')\n",
    "    plt.title(\"Histogram of boot_data\")\n",
    "    plt.show()\n",
    "       \n",
    "    return {\"boot_data\": boot_data, \n",
    "            \"quants\": quants, \n",
    "            \"p_value\": p_value}"
   ]
  },
  {
   "cell_type": "markdown",
   "metadata": {},
   "source": [
    "#### Проведем проверку гипотезы:\n",
    "- H0 (нулевая гипотеза): Связь между метрикой ARPU и групповой принадлежностью отсутствует;\n",
    "- H1 (альтернативная гипотеза): Взаимосвязь между группой и ARPU, все-таки, имеется."
   ]
  },
  {
   "cell_type": "code",
   "execution_count": 30,
   "metadata": {},
   "outputs": [
    {
     "data": {
      "image/png": "[encoded data removed]",
      "text/plain": [
       "<Figure size 432x288 with 1 Axes>"
      ]
     },
     "metadata": {
      "needs_background": "light"
     },
     "output_type": "display_data"
    },
    {
     "name": "stdout",
     "output_type": "stream",
     "text": [
      "p_value: 0.5411935054801067\n",
      "quants:               0\n",
      "0.025 -5.351810\n",
      "0.975  2.696421\n"
     ]
    }
   ],
   "source": [
    "# Подаем соответствующие данные на функцию и выводим полученный результат\n",
    "booted_data_mean_arpu = get_bootstrap_mean(DF['revenue'].loc[(DF['testgroup']=='a')],\n",
    "                                      DF['revenue'].loc[(DF['testgroup']=='b')])\n",
    "\n",
    "print(\"p_value:\", booted_data_mean_arpu[\"p_value\"])\n",
    "print(\"quants:\", booted_data_mean_arpu[\"quants\"])"
   ]
  },
  {
   "cell_type": "markdown",
   "metadata": {},
   "source": [
    "#### Результат сравнения ARPU групп не показал статистического различия показателей (p-value = ~0.5 >> 0.05).\n",
    "#### Поэтому мы не отклоняем нулевую гипотезу и можем сделать вывод, что акционные наборы не повлияли на ARPU. "
   ]
  },
  {
   "cell_type": "markdown",
   "metadata": {},
   "source": [
    "### Анализ ARPPU"
   ]
  },
  {
   "cell_type": "code",
   "execution_count": 31,
   "metadata": {},
   "outputs": [
    {
     "data": {
      "text/html": [
       "<div>\n",
       "<style scoped>\n",
       "    .dataframe tbody tr th:only-of-type {\n",
       "        vertical-align: middle;\n",
       "    }\n",
       "\n",
       "    .dataframe tbody tr th {\n",
       "        vertical-align: top;\n",
       "    }\n",
       "\n",
       "    .dataframe thead th {\n",
       "        text-align: right;\n",
       "    }\n",
       "</style>\n",
       "<table border=\"1\" class=\"dataframe\">\n",
       "  <thead>\n",
       "    <tr style=\"text-align: right;\">\n",
       "      <th></th>\n",
       "      <th>testgroup</th>\n",
       "      <th>ARPPU</th>\n",
       "    </tr>\n",
       "  </thead>\n",
       "  <tbody>\n",
       "    <tr>\n",
       "      <th>0</th>\n",
       "      <td>a</td>\n",
       "      <td>2663.998444</td>\n",
       "    </tr>\n",
       "    <tr>\n",
       "      <th>1</th>\n",
       "      <td>b</td>\n",
       "      <td>3003.658172</td>\n",
       "    </tr>\n",
       "  </tbody>\n",
       "</table>\n",
       "</div>"
      ],
      "text/plain": [
       "  testgroup        ARPPU\n",
       "0         a  2663.998444\n",
       "1         b  3003.658172"
      ]
     },
     "execution_count": 31,
     "metadata": {},
     "output_type": "execute_result"
    }
   ],
   "source": [
    "# Оценим и метрику ARPPU.\n",
    "Indicators[['testgroup', 'ARPPU']]"
   ]
  },
  {
   "cell_type": "markdown",
   "metadata": {},
   "source": [
    "#### Проведем проверку гипотезы:\n",
    "- H0 (нулевая гипотеза): Связь между метрикой ARPPU и групповой принадлежностью отсутствует;\n",
    "- H1 (альтернативная гипотеза): Взаимосвязь между группой и ARPPU присутствует."
   ]
  },
  {
   "cell_type": "code",
   "execution_count": 32,
   "metadata": {},
   "outputs": [
    {
     "data": {
      "image/png": "[encoded data removed]",
      "text/plain": [
       "<Figure size 432x288 with 1 Axes>"
      ]
     },
     "metadata": {},
     "output_type": "display_data"
    },
    {
     "name": "stdout",
     "output_type": "stream",
     "text": [
      "p_value: 0.10164622925935539\n",
      "quants:                 0\n",
      "0.025 -716.635283\n",
      "0.975  102.315936\n"
     ]
    }
   ],
   "source": [
    "booted_data_mean_arppu = get_bootstrap_mean(DF['revenue'].loc[(DF['testgroup']=='a') & (DF['revenue']>0)],\n",
    "                                      DF['revenue'].loc[(DF['testgroup']=='b') & (DF['revenue']>0)])\n",
    "\n",
    "print(\"p_value:\", booted_data_mean_arppu[\"p_value\"])\n",
    "print(\"quants:\", booted_data_mean_arppu[\"quants\"])"
   ]
  },
  {
   "cell_type": "markdown",
   "metadata": {},
   "source": [
    "#### Бутстреп-анализ ARPPU также показал отсутствие статистически значимого отличия показателей.\n",
    "#### Поэтому мы также не отклоняем нулевую гипотезу и делаем вывод, что акционные наборы не повлияли на ARPPU. "
   ]
  },
  {
   "cell_type": "markdown",
   "metadata": {},
   "source": [
    "### Предположим что выбросы в группе А обусловлены попаданием клиентов премиум класса в контрольную группу но в тоже время они не попали в тестовую группу, следовательно при разделени пользователей для А/В тестирование произошла ошибка. Либо выбросы могу быть обусловлены ошибкой логирования системы оплат. Так что мы можем отсеч эти 123 пользователя и провести анализ без них."
   ]
  },
  {
   "cell_type": "markdown",
   "metadata": {},
   "source": [
    "### Анализ ARPU с отсеченными выбросами"
   ]
  },
  {
   "cell_type": "markdown",
   "metadata": {},
   "source": [
    "#### Проведем проверку гипотезы:\n",
    "- H0 (нулевая гипотеза): Связь между метрикой ARPU и групповой принадлежностью отсутствует;\n",
    "- H1 (альтернативная гипотеза): Взаимосвязь между группой и ARPU, все-таки, имеется."
   ]
  },
  {
   "cell_type": "code",
   "execution_count": 33,
   "metadata": {},
   "outputs": [
    {
     "data": {
      "image/png": "[encoded data removed]",
      "text/plain": [
       "<Figure size 432x288 with 1 Axes>"
      ]
     },
     "metadata": {},
     "output_type": "display_data"
    },
    {
     "name": "stdout",
     "output_type": "stream",
     "text": [
      "p_value: 2.3128432199247127e-304\n",
      "quants:                0\n",
      "0.025 -25.292764\n",
      "0.975 -22.774082\n"
     ]
    }
   ],
   "source": [
    "# Подаем соответствующие данные на функцию и выводим полученный результат\n",
    "booted_data_mean_arpu = get_bootstrap_mean(DF['revenue'].loc[(DF['testgroup']=='a') & (DF['revenue']<5000)],\n",
    "                                      DF['revenue'].loc[(DF['testgroup']=='b')])\n",
    "\n",
    "print(\"p_value:\", booted_data_mean_arpu[\"p_value\"])\n",
    "print(\"quants:\", booted_data_mean_arpu[\"quants\"])"
   ]
  },
  {
   "cell_type": "markdown",
   "metadata": {},
   "source": [
    "#### Результат сравнения ARPU групп показал статистически значимое различие показателей (p-value << 0.05).\n",
    "#### Поэтому мы отклоняем нулевую гипотезу и можем сделать вывод, что акционные наборы повлияли на ARPU."
   ]
  },
  {
   "cell_type": "markdown",
   "metadata": {},
   "source": [
    "### Анализ ARPPU с отсеченными выбросами"
   ]
  },
  {
   "cell_type": "markdown",
   "metadata": {},
   "source": [
    "#### Проведем проверку гипотезы:\n",
    "- H0 (нулевая гипотеза): Связь между метрикой ARPPU и групповой принадлежностью отсутствует;\n",
    "- H1 (альтернативная гипотеза): Взаимосвязь между группой и ARPPU, все-таки, имеется."
   ]
  },
  {
   "cell_type": "code",
   "execution_count": 34,
   "metadata": {},
   "outputs": [
    {
     "data": {
      "image/png": "[encoded data removed]",
      "text/plain": [
       "<Figure size 432x288 with 1 Axes>"
      ]
     },
     "metadata": {},
     "output_type": "display_data"
    },
    {
     "name": "stdout",
     "output_type": "stream",
     "text": [
      "p_value: 0.0\n",
      "quants:                  0\n",
      "0.025 -2729.685125\n",
      "0.975 -2674.147936\n"
     ]
    }
   ],
   "source": [
    "booted_data_mean_arpu = get_bootstrap_mean(DF['revenue'].loc[(DF['testgroup']=='a') & (DF['revenue']>0) & (DF['revenue']<5000)],\n",
    "                                      DF['revenue'].loc[(DF['testgroup']=='b') & (DF['revenue']>0)])\n",
    "\n",
    "print(\"p_value:\", booted_data_mean_arpu[\"p_value\"])\n",
    "print(\"quants:\", booted_data_mean_arpu[\"quants\"])"
   ]
  },
  {
   "cell_type": "markdown",
   "metadata": {},
   "source": [
    "#### Результат сравнения ARPPU групп показал статистически значимое различия показателей (p-value << 0.05).\n",
    "#### Поэтому мы отклоняем нулевую гипотезу и можем сделать вывод, что акционные наборы повлияли на ARPPU."
   ]
  },
  {
   "cell_type": "markdown",
   "metadata": {},
   "source": [
    "## Анализ ARPU и ARPPU с помошью непараметрического критерия Манна-Уитни"
   ]
  },
  {
   "cell_type": "markdown",
   "metadata": {},
   "source": [
    "Т.к. распределение данных не является нормальным и имеются выбросы можем применить непараметрический критерий для проверки истинных медианных значений выборок"
   ]
  },
  {
   "cell_type": "markdown",
   "metadata": {},
   "source": [
    "### ARPU"
   ]
  },
  {
   "cell_type": "markdown",
   "metadata": {},
   "source": [
    "#### Проведем проверку гипотезы:\n",
    "- H0 (нулевая гипотеза): истинная медиана ARPU одинакова для обоих групп;\n",
    "- H1 (альтернативная гипотеза): истинная медиана ARPU для обоих групп отличается."
   ]
  },
  {
   "cell_type": "code",
   "execution_count": 35,
   "metadata": {},
   "outputs": [
    {
     "name": "stdout",
     "output_type": "stream",
     "text": [
      "Mann-Whitney U test: U = 20491259376, p = 0.06269701316074398\n"
     ]
    }
   ],
   "source": [
    "# Проведем непараметрический тест Манна-Уитни\n",
    "from scipy.stats import mannwhitneyu\n",
    "\n",
    "statistic, pvalue = mannwhitneyu(DF['revenue'].loc[(DF['testgroup']=='a')],\n",
    "                                DF['revenue'].loc[(DF['testgroup']=='b')],\n",
    "                                 alternative='two-sided')\n",
    "\n",
    "print(f'Mann-Whitney U test: U = {int(statistic)}, p = {pvalue}')"
   ]
  },
  {
   "cell_type": "markdown",
   "metadata": {},
   "source": [
    "#### Результат сравнения ARPU групп не показал статистически значимого различия показателей (p-value > 0.05).\n",
    "#### Поэтому мы не отклоняем нулевую гипотезу и можем сделать вывод, что акционные наборы не повлияли на ARPU."
   ]
  },
  {
   "cell_type": "markdown",
   "metadata": {},
   "source": [
    "### ARPPU"
   ]
  },
  {
   "cell_type": "markdown",
   "metadata": {},
   "source": [
    "#### Проведем проверку гипотезы:\n",
    "- H0 (нулевая гипотеза): истинная медиана ARPPU одинакова для обоих групп;\n",
    "- H1 (альтернативная гипотеза): истинная медиана ARPPU для обоих групп отличается."
   ]
  },
  {
   "cell_type": "code",
   "execution_count": 36,
   "metadata": {},
   "outputs": [
    {
     "name": "stdout",
     "output_type": "stream",
     "text": [
      "Mann-Whitney U test: U = 222015, p = 0.0\n"
     ]
    }
   ],
   "source": [
    "statistic, pvalue = mannwhitneyu(DF['revenue'].loc[(DF['testgroup']=='a') & (DF['revenue']>0)],\n",
    "                                DF['revenue'].loc[(DF['testgroup']=='b') & (DF['revenue']>0)],\n",
    "                                 alternative='two-sided')\n",
    "\n",
    "print(f'Mann-Whitney U test: U = {int(statistic)}, p = {pvalue}')"
   ]
  },
  {
   "cell_type": "markdown",
   "metadata": {},
   "source": [
    "#### Результат сравнения ARPPU групп показал статистически значимое различие показателей (p-value << 0.05).\n",
    "#### Поэтому мы отклоняем нулевую гипотезу и можем сделать вывод, что акционные наборы повлияли на ARPPU."
   ]
  },
  {
   "cell_type": "markdown",
   "metadata": {},
   "source": [
    "## ВЫВОДЫ"
   ]
  },
  {
   "cell_type": "markdown",
   "metadata": {},
   "source": [
    "- Медианные чеки двух групп существенно отличаются;\n",
    "- Распределение покупок в группе B - равномерно, в пределах 2000-4000 рублей. В группе A - присутствуют 123 человека из 202103, кто приобретал дорогие покупки;\n",
    "- Стоит обратить внимание на тех 123 человек из группы А, кто совершил дорогостоящие покупки. Они являются частью в 0.06% от числа пользователей группы A, однако вносят наибольшую часть выручки.\n",
    "- Результаты непараметрического теста Манна-Уитни(менее чувствительного к выбросам) показывают различия в ARPPU, но не в ARPU. Это может указывать на то, что изменения в акционных предложениях влияют на доход только у платящих пользователей и не оказывают значительного влияния на общий доход от всех пользователей.\n",
    "- Т.к. в данных были обнаружены 123 аномальных значений суммы покупок в контрольной группе. Для формулировки  выводов нужно дополнительно запрашивать информацию о природе появления выбросов в контрольной группе.\n",
    "- Выбросы влияют на результаты бутстрап анализа ARPU и ARPPU, и на результаты теста Хи-квадрат по конверсии. А следовательно на выводы.\n",
    "#### Можно сделать следующие заключение по результатам исследования данных:\n",
    "\n",
    "`1. Если мы не отсекаем выбросы и акционные предложения с такими ценами действительно существуют. По результатам бутстрап анализа - ARPU и ARPPU статзначимо не отличаются в контрольной и тестовой группах. По результатам теста Хи-квадрат - конверсия статзначимо ниже в тестовой группе чем в контрольной. И мы выбираем набор акционных предложений группы А.`\n",
    "\n",
    "`2. Если же выбросы попали в выборку ошибочно и акционных предложений с такими ценами не существует. По результатам бутстрап анализа с отсеченными выбросами - ARPU и ARPPU статзначимо выросло в тестовой группе. По результатам теста Хи-квадрат - конверсия с отсеченными выбросами статзначимо не изменилась. Мы выбираем набор акционных предложений группы В.`\n",
    "\n",
    "### Сделать окончательные выводы не представляется возможным без информации о природе возникновения аномальных значений в контрольной группе, т.к. выбросы влияют на результаты тестов."
   ]
  }
 ],
 "metadata": {
  "kernelspec": {
   "display_name": "Python 3",
   "language": "python",
   "name": "python3"
  },
  "language_info": {
   "codemirror_mode": {
    "name": "ipython",
    "version": 3
   },
   "file_extension": ".py",
   "mimetype": "text/x-python",
   "name": "python",
   "nbconvert_exporter": "python",
   "pygments_lexer": "ipython3",
   "version": "3.7.3"
  }
 },
 "nbformat": 4,
 "nbformat_minor": 2
}
